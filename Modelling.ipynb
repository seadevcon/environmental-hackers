{
 "cells": [
  {
   "cell_type": "code",
   "execution_count": 91,
   "metadata": {},
   "outputs": [],
   "source": [
    "import matplotlib.pyplot as plt\n",
    "import pandas as pd\n",
    "from pandas import DataFrame\n",
    "from pandas import concat\n",
    "import numpy as np\n",
    "from sklearn import preprocessing\n",
    "\n",
    "from sklearn.model_selection import train_test_split\n",
    "from sklearn.tree import DecisionTreeClassifier\n",
    "from sklearn.ensemble import RandomForestClassifier\n",
    "from sklearn.ensemble import AdaBoostClassifier\n",
    "from sklearn.metrics import roc_curve"
   ]
  },
  {
   "cell_type": "code",
   "execution_count": 92,
   "metadata": {
    "collapsed": true
   },
   "outputs": [],
   "source": [
    "# get the data:\n",
    "ship1_seadevcon = pd.read_pickle(\"ship1_seadevcon\")"
   ]
  },
  {
   "cell_type": "code",
   "execution_count": 93,
   "metadata": {},
   "outputs": [
    {
     "data": {
      "text/html": [
       "<div>\n",
       "<style scoped>\n",
       "    .dataframe tbody tr th:only-of-type {\n",
       "        vertical-align: middle;\n",
       "    }\n",
       "\n",
       "    .dataframe tbody tr th {\n",
       "        vertical-align: top;\n",
       "    }\n",
       "\n",
       "    .dataframe thead th {\n",
       "        text-align: right;\n",
       "    }\n",
       "</style>\n",
       "<table border=\"1\" class=\"dataframe\">\n",
       "  <thead>\n",
       "    <tr style=\"text-align: right;\">\n",
       "      <th></th>\n",
       "      <th>Enclosure underpressure GVU, PDS01</th>\n",
       "      <th>Inlet gas pressure</th>\n",
       "      <th>Gas pressure between shut-off valves</th>\n",
       "      <th>Inert gas pressure</th>\n",
       "      <th>Instrument air pressure GVU, PT006</th>\n",
       "      <th>Inlet gas temperature</th>\n",
       "      <th>Fuel rack control</th>\n",
       "      <th>Exh WG valve control value</th>\n",
       "      <th>By Pass valve control</th>\n",
       "      <th>MFI duration offset, cyl A1</th>\n",
       "      <th>...</th>\n",
       "      <th>CA temp, engine inlet, TE601</th>\n",
       "      <th>Engine exh. gas average temp, TY500</th>\n",
       "      <th>Engine load feedback, torque</th>\n",
       "      <th>Torsional vibration level, mean</th>\n",
       "      <th>Calculated engine load</th>\n",
       "      <th>RunNumber</th>\n",
       "      <th>MinutesSinceStart</th>\n",
       "      <th>CumRunningHours</th>\n",
       "      <th>Load</th>\n",
       "      <th>FuelTypeAnalog</th>\n",
       "    </tr>\n",
       "  </thead>\n",
       "  <tbody>\n",
       "    <tr>\n",
       "      <th>1828</th>\n",
       "      <td>-57.500000</td>\n",
       "      <td>5.8</td>\n",
       "      <td>5.86</td>\n",
       "      <td>8.53</td>\n",
       "      <td>6.320</td>\n",
       "      <td>38.700001</td>\n",
       "      <td>0.0</td>\n",
       "      <td>18.236111</td>\n",
       "      <td>0.0</td>\n",
       "      <td>97.683335</td>\n",
       "      <td>...</td>\n",
       "      <td>39.700001</td>\n",
       "      <td>476.299988</td>\n",
       "      <td>52.844200</td>\n",
       "      <td>114.898305</td>\n",
       "      <td>2821.50</td>\n",
       "      <td>42</td>\n",
       "      <td>334.0</td>\n",
       "      <td>25.022318</td>\n",
       "      <td>48.741905</td>\n",
       "      <td>2</td>\n",
       "    </tr>\n",
       "    <tr>\n",
       "      <th>1829</th>\n",
       "      <td>-57.500000</td>\n",
       "      <td>5.8</td>\n",
       "      <td>5.86</td>\n",
       "      <td>8.53</td>\n",
       "      <td>6.320</td>\n",
       "      <td>38.700001</td>\n",
       "      <td>0.0</td>\n",
       "      <td>18.229268</td>\n",
       "      <td>0.0</td>\n",
       "      <td>97.741669</td>\n",
       "      <td>...</td>\n",
       "      <td>39.700001</td>\n",
       "      <td>476.299988</td>\n",
       "      <td>52.770000</td>\n",
       "      <td>129.127119</td>\n",
       "      <td>2741.70</td>\n",
       "      <td>42</td>\n",
       "      <td>336.0</td>\n",
       "      <td>25.055651</td>\n",
       "      <td>48.754955</td>\n",
       "      <td>2</td>\n",
       "    </tr>\n",
       "    <tr>\n",
       "      <th>1830</th>\n",
       "      <td>-57.500000</td>\n",
       "      <td>5.8</td>\n",
       "      <td>5.86</td>\n",
       "      <td>8.53</td>\n",
       "      <td>6.320</td>\n",
       "      <td>38.700001</td>\n",
       "      <td>0.0</td>\n",
       "      <td>18.285106</td>\n",
       "      <td>0.0</td>\n",
       "      <td>97.800003</td>\n",
       "      <td>...</td>\n",
       "      <td>39.700001</td>\n",
       "      <td>476.299988</td>\n",
       "      <td>53.109362</td>\n",
       "      <td>120.689655</td>\n",
       "      <td>2781.60</td>\n",
       "      <td>42</td>\n",
       "      <td>338.0</td>\n",
       "      <td>25.088984</td>\n",
       "      <td>48.705455</td>\n",
       "      <td>2</td>\n",
       "    </tr>\n",
       "    <tr>\n",
       "      <th>1831</th>\n",
       "      <td>-57.620690</td>\n",
       "      <td>5.8</td>\n",
       "      <td>5.86</td>\n",
       "      <td>8.53</td>\n",
       "      <td>6.320</td>\n",
       "      <td>38.700001</td>\n",
       "      <td>0.0</td>\n",
       "      <td>17.945238</td>\n",
       "      <td>0.0</td>\n",
       "      <td>97.800003</td>\n",
       "      <td>...</td>\n",
       "      <td>39.700001</td>\n",
       "      <td>476.299988</td>\n",
       "      <td>52.574340</td>\n",
       "      <td>122.145299</td>\n",
       "      <td>2844.30</td>\n",
       "      <td>42</td>\n",
       "      <td>340.0</td>\n",
       "      <td>25.122318</td>\n",
       "      <td>48.128070</td>\n",
       "      <td>2</td>\n",
       "    </tr>\n",
       "    <tr>\n",
       "      <th>1832</th>\n",
       "      <td>-57.463415</td>\n",
       "      <td>5.8</td>\n",
       "      <td>5.86</td>\n",
       "      <td>8.53</td>\n",
       "      <td>6.315</td>\n",
       "      <td>38.700001</td>\n",
       "      <td>0.0</td>\n",
       "      <td>18.168182</td>\n",
       "      <td>0.0</td>\n",
       "      <td>97.400002</td>\n",
       "      <td>...</td>\n",
       "      <td>39.700001</td>\n",
       "      <td>476.299988</td>\n",
       "      <td>53.131538</td>\n",
       "      <td>115.230769</td>\n",
       "      <td>2847.15</td>\n",
       "      <td>42</td>\n",
       "      <td>342.0</td>\n",
       "      <td>25.155651</td>\n",
       "      <td>48.594643</td>\n",
       "      <td>2</td>\n",
       "    </tr>\n",
       "  </tbody>\n",
       "</table>\n",
       "<p>5 rows × 83 columns</p>\n",
       "</div>"
      ],
      "text/plain": [
       "      Enclosure underpressure GVU, PDS01  Inlet gas pressure  \\\n",
       "1828                          -57.500000                 5.8   \n",
       "1829                          -57.500000                 5.8   \n",
       "1830                          -57.500000                 5.8   \n",
       "1831                          -57.620690                 5.8   \n",
       "1832                          -57.463415                 5.8   \n",
       "\n",
       "      Gas pressure between shut-off valves  Inert gas pressure  \\\n",
       "1828                                  5.86                8.53   \n",
       "1829                                  5.86                8.53   \n",
       "1830                                  5.86                8.53   \n",
       "1831                                  5.86                8.53   \n",
       "1832                                  5.86                8.53   \n",
       "\n",
       "      Instrument air pressure GVU, PT006  Inlet gas temperature  \\\n",
       "1828                               6.320              38.700001   \n",
       "1829                               6.320              38.700001   \n",
       "1830                               6.320              38.700001   \n",
       "1831                               6.320              38.700001   \n",
       "1832                               6.315              38.700001   \n",
       "\n",
       "      Fuel rack control  Exh WG valve control value  By Pass valve control  \\\n",
       "1828                0.0                   18.236111                    0.0   \n",
       "1829                0.0                   18.229268                    0.0   \n",
       "1830                0.0                   18.285106                    0.0   \n",
       "1831                0.0                   17.945238                    0.0   \n",
       "1832                0.0                   18.168182                    0.0   \n",
       "\n",
       "      MFI duration offset, cyl A1       ...        \\\n",
       "1828                    97.683335       ...         \n",
       "1829                    97.741669       ...         \n",
       "1830                    97.800003       ...         \n",
       "1831                    97.800003       ...         \n",
       "1832                    97.400002       ...         \n",
       "\n",
       "      CA temp, engine inlet, TE601  Engine exh. gas average temp, TY500  \\\n",
       "1828                     39.700001                           476.299988   \n",
       "1829                     39.700001                           476.299988   \n",
       "1830                     39.700001                           476.299988   \n",
       "1831                     39.700001                           476.299988   \n",
       "1832                     39.700001                           476.299988   \n",
       "\n",
       "      Engine load feedback, torque  Torsional vibration level, mean  \\\n",
       "1828                     52.844200                       114.898305   \n",
       "1829                     52.770000                       129.127119   \n",
       "1830                     53.109362                       120.689655   \n",
       "1831                     52.574340                       122.145299   \n",
       "1832                     53.131538                       115.230769   \n",
       "\n",
       "      Calculated engine load  RunNumber  MinutesSinceStart  CumRunningHours  \\\n",
       "1828                 2821.50         42              334.0        25.022318   \n",
       "1829                 2741.70         42              336.0        25.055651   \n",
       "1830                 2781.60         42              338.0        25.088984   \n",
       "1831                 2844.30         42              340.0        25.122318   \n",
       "1832                 2847.15         42              342.0        25.155651   \n",
       "\n",
       "           Load  FuelTypeAnalog  \n",
       "1828  48.741905               2  \n",
       "1829  48.754955               2  \n",
       "1830  48.705455               2  \n",
       "1831  48.128070               2  \n",
       "1832  48.594643               2  \n",
       "\n",
       "[5 rows x 83 columns]"
      ]
     },
     "execution_count": 93,
     "metadata": {},
     "output_type": "execute_result"
    }
   ],
   "source": [
    "# Switch last two features:\n",
    "Load = ship1_seadevcon[\"Load\"]\n",
    "FuelTypeAnalog = ship1_seadevcon[\"FuelTypeAnalog\"]\n",
    "\n",
    "ship1_seadevcon[\"FuelTypeAnalog\"] = Load\n",
    "ship1_seadevcon[\"Load\"] = FuelTypeAnalog\n",
    "\n",
    "ship1_seadevcon = ship1_seadevcon.rename(columns={'FuelTypeAnalog': 'Load', 'Load': 'FuelTypeAnalog'})\n",
    "\n",
    "ship1_seadevcon.head()"
   ]
  },
  {
   "cell_type": "code",
   "execution_count": 4,
   "metadata": {},
   "outputs": [
    {
     "name": "stdout",
     "output_type": "stream",
     "text": [
      "taining shape: (325372, 83) test shape: (81343, 83)\n",
      "<class 'pandas.core.frame.DataFrame'>\n"
     ]
    }
   ],
   "source": [
    "''' Split data into training and test set '''\n",
    "\n",
    "training_data, test_data = train_test_split(ship1_seadevcon, test_size=0.2, shuffle=True)\n",
    "print(\"taining shape:\",training_data.shape,\"test shape:\",test_data.shape)\n",
    "print(type(training_data))"
   ]
  },
  {
   "cell_type": "code",
   "execution_count": 6,
   "metadata": {},
   "outputs": [
    {
     "data": {
      "text/plain": [
       "RandomForestClassifier(bootstrap=True, class_weight=None, criterion='gini',\n",
       "            max_depth=7, max_features=15, max_leaf_nodes=None,\n",
       "            min_impurity_decrease=0.0, min_impurity_split=None,\n",
       "            min_samples_leaf=1, min_samples_split=2,\n",
       "            min_weight_fraction_leaf=0.0, n_estimators=130, n_jobs=3,\n",
       "            oob_score=False, random_state=0, verbose=0, warm_start=False)"
      ]
     },
     "execution_count": 6,
     "metadata": {},
     "output_type": "execute_result"
    }
   ],
   "source": [
    "# Random Forrest\n",
    "clf = RandomForestClassifier(n_estimators=130, max_features=15, max_depth=7, n_jobs=3, random_state=0)\n",
    "\n",
    "# get all features but the last one, which is the one we want to predict\n",
    "features = training_data.columns[:training_data.shape[1]-1]\n",
    "\n",
    "# Train the Classifier to take the training features and learn how they relate to the training y (the species)\n",
    "clf.fit(training_data[features], training_data['FuelTypeAnalog'])"
   ]
  },
  {
   "cell_type": "code",
   "execution_count": 7,
   "metadata": {
    "collapsed": true
   },
   "outputs": [],
   "source": [
    "# predict grades for training and test dataset\n",
    "pred_results_test  = clf.predict(test_data[features])\n",
    "pred_results_train = clf.predict(training_data[features])"
   ]
  },
  {
   "cell_type": "code",
   "execution_count": 8,
   "metadata": {},
   "outputs": [
    {
     "name": "stdout",
     "output_type": "stream",
     "text": [
      "Accuracy test:      0.9989673358494278\n",
      "Accuracy training:  0.9990994922734593\n",
      "\n",
      "L1 Loss test:       88\n",
      "L2 Loss test:       96\n"
     ]
    }
   ],
   "source": [
    "\n",
    "correct_percent_test = 1 - (np.count_nonzero(pred_results_test - test_data['FuelTypeAnalog'])/pred_results_test.shape[0])\n",
    "correct_percent_train = 1 - np.count_nonzero(pred_results_train - training_data['FuelTypeAnalog'])/training_data['FuelTypeAnalog'].shape[0]\n",
    "l1_loss = np.sum(np.abs(pred_results_test - test_data['FuelTypeAnalog'].values)) # L1 Loss\n",
    "l2_loss = np.sum(np.square(pred_results_test - test_data['FuelTypeAnalog'].values)) # L2 Loss\n",
    "\n",
    "print(\"Accuracy test:     \", correct_percent_test)\n",
    "print(\"Accuracy training: \", correct_percent_train)\n",
    "\n",
    "print(\"\\nL1 Loss test:      \", l1_loss)\n",
    "print(\"L2 Loss test:      \",   l2_loss)"
   ]
  },
  {
   "cell_type": "code",
   "execution_count": 9,
   "metadata": {},
   "outputs": [
    {
     "data": {
      "image/png": "[encoded data removed]",
      "text/plain": [
       "<matplotlib.figure.Figure at 0x1101ab4e0>"
      ]
     },
     "metadata": {},
     "output_type": "display_data"
    }
   ],
   "source": [
    "importance = clf.feature_importances_\n",
    "plt.bar(ship1_seadevcon.columns[:training_data.shape[1]-1].values, importance)\n",
    "plt.show()"
   ]
  },
  {
   "cell_type": "code",
   "execution_count": 10,
   "metadata": {},
   "outputs": [
    {
     "data": {
      "text/html": [
       "<div>\n",
       "<style scoped>\n",
       "    .dataframe tbody tr th:only-of-type {\n",
       "        vertical-align: middle;\n",
       "    }\n",
       "\n",
       "    .dataframe tbody tr th {\n",
       "        vertical-align: top;\n",
       "    }\n",
       "\n",
       "    .dataframe thead th {\n",
       "        text-align: right;\n",
       "    }\n",
       "</style>\n",
       "<table border=\"1\" class=\"dataframe\">\n",
       "  <thead>\n",
       "    <tr style=\"text-align: right;\">\n",
       "      <th></th>\n",
       "      <th>0</th>\n",
       "    </tr>\n",
       "  </thead>\n",
       "  <tbody>\n",
       "    <tr>\n",
       "      <th>Enclosure underpressure GVU, PDS01</th>\n",
       "      <td>0.000048</td>\n",
       "    </tr>\n",
       "    <tr>\n",
       "      <th>Inlet gas pressure</th>\n",
       "      <td>0.000389</td>\n",
       "    </tr>\n",
       "    <tr>\n",
       "      <th>Gas pressure between shut-off valves</th>\n",
       "      <td>0.057393</td>\n",
       "    </tr>\n",
       "    <tr>\n",
       "      <th>Inert gas pressure</th>\n",
       "      <td>0.000311</td>\n",
       "    </tr>\n",
       "    <tr>\n",
       "      <th>Instrument air pressure GVU, PT006</th>\n",
       "      <td>0.000204</td>\n",
       "    </tr>\n",
       "  </tbody>\n",
       "</table>\n",
       "</div>"
      ],
      "text/plain": [
       "                                             0\n",
       "Enclosure underpressure GVU, PDS01    0.000048\n",
       "Inlet gas pressure                    0.000389\n",
       "Gas pressure between shut-off valves  0.057393\n",
       "Inert gas pressure                    0.000311\n",
       "Instrument air pressure GVU, PT006    0.000204"
      ]
     },
     "execution_count": 10,
     "metadata": {},
     "output_type": "execute_result"
    }
   ],
   "source": [
    "sorted_importance = pd.DataFrame([importance], None, ship1_seadevcon.columns[:training_data.shape[1]-1].values).T\n",
    "sorted_importance.head()"
   ]
  },
  {
   "cell_type": "code",
   "execution_count": 11,
   "metadata": {},
   "outputs": [
    {
     "data": {
      "image/png": "[encoded data removed]",
      "text/plain": [
       "<matplotlib.figure.Figure at 0x1176ed5f8>"
      ]
     },
     "metadata": {},
     "output_type": "display_data"
    }
   ],
   "source": [
    "sorted_importance = sorted_importance.sort_values(0, ascending=False)\n",
    "sorted_importance.plot(kind='bar')\n",
    "plt.title(\"Feature Importance\")\n",
    "plt.xlabel(\"Feature\")\n",
    "plt.ylabel(\"Correlation\")\n",
    "plt.show()"
   ]
  },
  {
   "cell_type": "code",
   "execution_count": 12,
   "metadata": {},
   "outputs": [
    {
     "data": {
      "image/png": "[encoded data removed]",
      "text/plain": [
       "<matplotlib.figure.Figure at 0x1253293c8>"
      ]
     },
     "metadata": {},
     "output_type": "display_data"
    }
   ],
   "source": [
    "sorted_importance[:10].plot(kind='bar')\n",
    "plt.show()"
   ]
  },
  {
   "cell_type": "markdown",
   "metadata": {},
   "source": [
    "Discussion: Sure, 99,88 % makes sense, the fuel used can be predicted easily if all machine data is given. \n",
    "The real challange is to find reasons for the fuel change. The data is staying the same as a time series. But the Model must be changed.\n",
    "\n",
    "In Other Words, we don't need a classification, we need a regression that's mapping the current state to a probability of fuel changes in the future.\n",
    "\n",
    "Models possible: \n",
    "Recurrent neuronal Network\n",
    "Anything that can handle time series (See also stock marked predictions).\n",
    "Maybe one decision tree for every time step (2,5,10,15,30,45,60 min into the future). <- would need some data magic (delay the objecive) but looks like it could be a cool idea.\n",
    "-> Should give a probability of the fuel choice all timesteps in the future. \n"
   ]
  },
  {
   "cell_type": "markdown",
   "metadata": {},
   "source": [
    "<h1>Random Forrest Forecasting</h1>"
   ]
  },
  {
   "cell_type": "code",
   "execution_count": 94,
   "metadata": {},
   "outputs": [],
   "source": [
    "def series_to_supervised(data, n_in=1, n_out=1, stepsize=5, dropnan=True):\n",
    "    n_vars = 1 if type(data) is list else data.shape[1]\n",
    "    df = DataFrame(data)\n",
    "    cols, names = list(), list()\n",
    "    # input sequence (t-n, ... t-1)\n",
    "    for i in range(n_in*stepsize, -stepsize, -stepsize):\n",
    "        cols.append(df.shift(i))\n",
    "        names += [('var%d(t-%d)' % (j+1, i)) for j in range(n_vars)]\n",
    "            \n",
    "    # forecast sequence (t+1, ... t+n)\n",
    "    for i in range(stepsize, n_out*stepsize, stepsize): # t0 ist schon abgedeckt hier drüber. Also start bei t+stepsize\n",
    "        cols.append(df.iloc[:,-1].shift(-i))\n",
    "        names += [\"Fuel(t+\"+str(i)+\")\"]\n",
    "        \n",
    "    # put it all together\n",
    "    agg = concat(cols, axis=1)\n",
    "    agg.columns = names\n",
    "    # drop rows with NaN values\n",
    "    if dropnan:\n",
    "        agg.dropna(inplace=True)\n",
    "    return agg"
   ]
  },
  {
   "cell_type": "code",
   "execution_count": 95,
   "metadata": {
    "collapsed": true
   },
   "outputs": [],
   "source": [
    "STEPS_INTO_PAST_AND_FUTURE=6"
   ]
  },
  {
   "cell_type": "code",
   "execution_count": 101,
   "metadata": {},
   "outputs": [
    {
     "data": {
      "text/html": [
       "<div>\n",
       "<style scoped>\n",
       "    .dataframe tbody tr th:only-of-type {\n",
       "        vertical-align: middle;\n",
       "    }\n",
       "\n",
       "    .dataframe tbody tr th {\n",
       "        vertical-align: top;\n",
       "    }\n",
       "\n",
       "    .dataframe thead th {\n",
       "        text-align: right;\n",
       "    }\n",
       "</style>\n",
       "<table border=\"1\" class=\"dataframe\">\n",
       "  <thead>\n",
       "    <tr style=\"text-align: right;\">\n",
       "      <th></th>\n",
       "      <th>var1(t-60)</th>\n",
       "      <th>var2(t-60)</th>\n",
       "      <th>var3(t-60)</th>\n",
       "      <th>var4(t-60)</th>\n",
       "      <th>var5(t-60)</th>\n",
       "      <th>var6(t-60)</th>\n",
       "      <th>var7(t-60)</th>\n",
       "      <th>var8(t-60)</th>\n",
       "      <th>var9(t-60)</th>\n",
       "      <th>var10(t-60)</th>\n",
       "      <th>...</th>\n",
       "      <th>var79(t-0)</th>\n",
       "      <th>var80(t-0)</th>\n",
       "      <th>var81(t-0)</th>\n",
       "      <th>var82(t-0)</th>\n",
       "      <th>var83(t-0)</th>\n",
       "      <th>Fuel(t+10)</th>\n",
       "      <th>Fuel(t+20)</th>\n",
       "      <th>Fuel(t+30)</th>\n",
       "      <th>Fuel(t+40)</th>\n",
       "      <th>Fuel(t+50)</th>\n",
       "    </tr>\n",
       "  </thead>\n",
       "  <tbody>\n",
       "    <tr>\n",
       "      <th>60</th>\n",
       "      <td>-57.500000</td>\n",
       "      <td>5.8</td>\n",
       "      <td>5.86</td>\n",
       "      <td>8.53</td>\n",
       "      <td>6.320</td>\n",
       "      <td>38.700001</td>\n",
       "      <td>0.0</td>\n",
       "      <td>18.236111</td>\n",
       "      <td>0.0</td>\n",
       "      <td>97.683335</td>\n",
       "      <td>...</td>\n",
       "      <td>46.0</td>\n",
       "      <td>33.0</td>\n",
       "      <td>26.967148</td>\n",
       "      <td>13.227619</td>\n",
       "      <td>0.0</td>\n",
       "      <td>0.0</td>\n",
       "      <td>0.0</td>\n",
       "      <td>0.0</td>\n",
       "      <td>0.0</td>\n",
       "      <td>0.0</td>\n",
       "    </tr>\n",
       "    <tr>\n",
       "      <th>61</th>\n",
       "      <td>-57.500000</td>\n",
       "      <td>5.8</td>\n",
       "      <td>5.86</td>\n",
       "      <td>8.53</td>\n",
       "      <td>6.320</td>\n",
       "      <td>38.700001</td>\n",
       "      <td>0.0</td>\n",
       "      <td>18.229268</td>\n",
       "      <td>0.0</td>\n",
       "      <td>97.741669</td>\n",
       "      <td>...</td>\n",
       "      <td>46.0</td>\n",
       "      <td>35.0</td>\n",
       "      <td>27.000482</td>\n",
       "      <td>17.350000</td>\n",
       "      <td>0.0</td>\n",
       "      <td>0.0</td>\n",
       "      <td>0.0</td>\n",
       "      <td>0.0</td>\n",
       "      <td>0.0</td>\n",
       "      <td>0.0</td>\n",
       "    </tr>\n",
       "    <tr>\n",
       "      <th>62</th>\n",
       "      <td>-57.500000</td>\n",
       "      <td>5.8</td>\n",
       "      <td>5.86</td>\n",
       "      <td>8.53</td>\n",
       "      <td>6.320</td>\n",
       "      <td>38.700001</td>\n",
       "      <td>0.0</td>\n",
       "      <td>18.285106</td>\n",
       "      <td>0.0</td>\n",
       "      <td>97.800003</td>\n",
       "      <td>...</td>\n",
       "      <td>46.0</td>\n",
       "      <td>37.0</td>\n",
       "      <td>27.033815</td>\n",
       "      <td>46.611818</td>\n",
       "      <td>0.0</td>\n",
       "      <td>0.0</td>\n",
       "      <td>0.0</td>\n",
       "      <td>0.0</td>\n",
       "      <td>0.0</td>\n",
       "      <td>0.0</td>\n",
       "    </tr>\n",
       "    <tr>\n",
       "      <th>63</th>\n",
       "      <td>-57.620690</td>\n",
       "      <td>5.8</td>\n",
       "      <td>5.86</td>\n",
       "      <td>8.53</td>\n",
       "      <td>6.320</td>\n",
       "      <td>38.700001</td>\n",
       "      <td>0.0</td>\n",
       "      <td>17.945238</td>\n",
       "      <td>0.0</td>\n",
       "      <td>97.800003</td>\n",
       "      <td>...</td>\n",
       "      <td>46.0</td>\n",
       "      <td>39.0</td>\n",
       "      <td>27.067148</td>\n",
       "      <td>79.561403</td>\n",
       "      <td>0.0</td>\n",
       "      <td>0.0</td>\n",
       "      <td>0.0</td>\n",
       "      <td>0.0</td>\n",
       "      <td>0.0</td>\n",
       "      <td>0.0</td>\n",
       "    </tr>\n",
       "    <tr>\n",
       "      <th>64</th>\n",
       "      <td>-57.463415</td>\n",
       "      <td>5.8</td>\n",
       "      <td>5.86</td>\n",
       "      <td>8.53</td>\n",
       "      <td>6.315</td>\n",
       "      <td>38.700001</td>\n",
       "      <td>0.0</td>\n",
       "      <td>18.168182</td>\n",
       "      <td>0.0</td>\n",
       "      <td>97.400002</td>\n",
       "      <td>...</td>\n",
       "      <td>46.0</td>\n",
       "      <td>41.0</td>\n",
       "      <td>27.100482</td>\n",
       "      <td>87.687736</td>\n",
       "      <td>0.0</td>\n",
       "      <td>0.0</td>\n",
       "      <td>0.0</td>\n",
       "      <td>0.0</td>\n",
       "      <td>0.0</td>\n",
       "      <td>0.0</td>\n",
       "    </tr>\n",
       "  </tbody>\n",
       "</table>\n",
       "<p>5 rows × 586 columns</p>\n",
       "</div>"
      ],
      "text/plain": [
       "    var1(t-60)  var2(t-60)  var3(t-60)  var4(t-60)  var5(t-60)  var6(t-60)  \\\n",
       "60  -57.500000         5.8        5.86        8.53       6.320   38.700001   \n",
       "61  -57.500000         5.8        5.86        8.53       6.320   38.700001   \n",
       "62  -57.500000         5.8        5.86        8.53       6.320   38.700001   \n",
       "63  -57.620690         5.8        5.86        8.53       6.320   38.700001   \n",
       "64  -57.463415         5.8        5.86        8.53       6.315   38.700001   \n",
       "\n",
       "    var7(t-60)  var8(t-60)  var9(t-60)  var10(t-60)     ...      var79(t-0)  \\\n",
       "60         0.0   18.236111         0.0    97.683335     ...            46.0   \n",
       "61         0.0   18.229268         0.0    97.741669     ...            46.0   \n",
       "62         0.0   18.285106         0.0    97.800003     ...            46.0   \n",
       "63         0.0   17.945238         0.0    97.800003     ...            46.0   \n",
       "64         0.0   18.168182         0.0    97.400002     ...            46.0   \n",
       "\n",
       "    var80(t-0)  var81(t-0)  var82(t-0)  var83(t-0)  Fuel(t+10)  Fuel(t+20)  \\\n",
       "60        33.0   26.967148   13.227619         0.0         0.0         0.0   \n",
       "61        35.0   27.000482   17.350000         0.0         0.0         0.0   \n",
       "62        37.0   27.033815   46.611818         0.0         0.0         0.0   \n",
       "63        39.0   27.067148   79.561403         0.0         0.0         0.0   \n",
       "64        41.0   27.100482   87.687736         0.0         0.0         0.0   \n",
       "\n",
       "    Fuel(t+30)  Fuel(t+40)  Fuel(t+50)  \n",
       "60         0.0         0.0         0.0  \n",
       "61         0.0         0.0         0.0  \n",
       "62         0.0         0.0         0.0  \n",
       "63         0.0         0.0         0.0  \n",
       "64         0.0         0.0         0.0  \n",
       "\n",
       "[5 rows x 586 columns]"
      ]
     },
     "execution_count": 101,
     "metadata": {},
     "output_type": "execute_result"
    }
   ],
   "source": [
    "training_data_timedependent = series_to_supervised(ship1_seadevcon.values, n_in=STEPS_INTO_PAST_AND_FUTURE, n_out=STEPS_INTO_PAST_AND_FUTURE, stepsize=10)\n",
    "training_data_timedependent.head()"
   ]
  },
  {
   "cell_type": "code",
   "execution_count": 102,
   "metadata": {},
   "outputs": [
    {
     "name": "stdout",
     "output_type": "stream",
     "text": [
      "taining shape: (325284, 586) test shape: (81321, 586)\n",
      "<class 'pandas.core.frame.DataFrame'>\n"
     ]
    }
   ],
   "source": [
    "''' Split data into training and test set '''\n",
    "\n",
    "training_data, test_data = train_test_split(training_data_timedependent, test_size=0.2, shuffle=False)\n",
    "print(\"taining shape:\",training_data.shape,\"test shape:\",test_data.shape)\n",
    "print(type(training_data))"
   ]
  },
  {
   "cell_type": "code",
   "execution_count": 110,
   "metadata": {
    "deletable": false,
    "editable": false,
    "run_control": {
     "frozen": true
    }
   },
   "outputs": [
    {
     "data": {
      "text/plain": [
       "RandomForestClassifier(bootstrap=True, class_weight=None, criterion='gini',\n",
       "            max_depth=7, max_features=15, max_leaf_nodes=None,\n",
       "            min_impurity_decrease=0.0, min_impurity_split=None,\n",
       "            min_samples_leaf=1, min_samples_split=2,\n",
       "            min_weight_fraction_leaf=0.0, n_estimators=130, n_jobs=3,\n",
       "            oob_score=False, random_state=0, verbose=0, warm_start=False)"
      ]
     },
     "execution_count": 110,
     "metadata": {},
     "output_type": "execute_result"
    }
   ],
   "source": [
    "# Random Forrest\n",
    "clf10 = RandomForestClassifier(n_estimators=130, max_features=15, max_depth=7, n_jobs=3, random_state=0)\n",
    "clf20 = RandomForestClassifier(n_estimators=130, max_features=15, max_depth=7, n_jobs=3, random_state=0)\n",
    "clf30 = RandomForestClassifier(n_estimators=130, max_features=15, max_depth=7, n_jobs=3, random_state=0)\n",
    "clf40 = RandomForestClassifier(n_estimators=130, max_features=15, max_depth=7, n_jobs=3, random_state=0)\n",
    "clf50 = RandomForestClassifier(n_estimators=130, max_features=15, max_depth=7, n_jobs=3, random_state=0)\n",
    "\n",
    "\n",
    "# get all features but the last one, which is the one we want to predict\n",
    "features = training_data.columns[:training_data.shape[1]-STEPS_INTO_PAST_AND_FUTURE]\n",
    "\n",
    "# Train the Classifier to take the training features and learn how they relate to the training y (the species)\n",
    "# trein STEPS_INTO_PAST_AND_FUTURE Classifiers, one for each step in the future.\n",
    "clf10.fit(training_data[features], training_data['Fuel(t+10)'])\n",
    "clf20.fit(training_data[features], training_data['Fuel(t+20)'])\n",
    "clf30.fit(training_data[features], training_data['Fuel(t+30)'])\n",
    "clf40.fit(training_data[features], training_data['Fuel(t+40)'])\n",
    "clf50.fit(training_data[features], training_data['Fuel(t+50)'])"
   ]
  },
  {
   "cell_type": "code",
   "execution_count": 113,
   "metadata": {
    "collapsed": true
   },
   "outputs": [],
   "source": [
    "pred_results_test_10  = clf10.predict(test_data[features])\n",
    "pred_results_train_10 = clf10.predict(training_data[features])\n",
    "\n",
    "pred_results_test_20  = clf20.predict(test_data[features])\n",
    "pred_results_train_20 = clf20.predict(training_data[features])\n",
    "\n",
    "pred_results_test_30  = clf30.predict(test_data[features])\n",
    "pred_results_train_30 = clf30.predict(training_data[features])\n",
    "\n",
    "pred_results_test_40  = clf40.predict(test_data[features])\n",
    "pred_results_train_40 = clf40.predict(training_data[features])\n",
    "\n",
    "pred_results_test_50  = clf50.predict(test_data[features])\n",
    "pred_results_train_50 = clf50.predict(training_data[features])\n",
    "\n",
    "pred_res = [[pred_results_test_10, pred_results_train_10], [pred_results_test_20, pred_results_train_20], [pred_results_test_30, pred_results_train_30], [pred_results_test_40, pred_results_train_40], [pred_results_test_50, pred_results_train_50]]"
   ]
  },
  {
   "cell_type": "code",
   "execution_count": 120,
   "metadata": {},
   "outputs": [
    {
     "name": "stdout",
     "output_type": "stream",
     "text": [
      "Accuracy test:     for  Fuel(t+10)  =  0.9591126523284268\n",
      "Accuracy training: for  Fuel(t+10)  =  0.9645786451224161\n",
      "Accuracy test:     for  Fuel(t+20)  =  0.9483774178871386\n",
      "Accuracy training: for  Fuel(t+20)  =  0.9615597447153872\n",
      "Accuracy test:     for  Fuel(t+30)  =  0.9372978689391425\n",
      "Accuracy training: for  Fuel(t+30)  =  0.9607020326852842\n",
      "Accuracy test:     for  Fuel(t+40)  =  0.9248287650176461\n",
      "Accuracy training: for  Fuel(t+40)  =  0.9600134036718683\n",
      "Accuracy test:     for  Fuel(t+50)  =  0.919713235203699\n",
      "Accuracy training: for  Fuel(t+50)  =  0.9596229756151547\n"
     ]
    }
   ],
   "source": [
    "Acc_test = []\n",
    "Acc_train = []\n",
    "for time, res in enumerate(pred_res):\n",
    "    # predict grades for training and test dataset\n",
    "    Fuel_time = 'Fuel(t+'+str(time*10+10)+')'\n",
    "    correct_percent_test = 1 - (np.count_nonzero(res[0] - test_data[Fuel_time])/res[0].shape[0])\n",
    "    Acc_test.append(correct_percent_test)\n",
    "    correct_percent_train = 1 - np.count_nonzero(res[1] - training_data[Fuel_time])/training_data[Fuel_time].shape[0]\n",
    "    Acc_train.append(correct_percent_train)\n",
    "    # l1_loss = np.sum(np.abs(pred_results_test - test_data[Fuel_time].values)) # L1 Loss\n",
    "    # l2_loss = np.sum(np.square(pred_results_test - test_data[Fuel_time].values)) # L2 Loss\n",
    "\n",
    "    print(\"Accuracy test:     for \",Fuel_time, \" = \", correct_percent_test)\n",
    "    print(\"Accuracy training: for \",Fuel_time, \" = \", correct_percent_train)\n",
    "\n",
    "    #print(\"\\nL1 Loss test:      \", l1_loss)\n",
    "    #print(\"L2 Loss test:      \",   l2_loss)"
   ]
  },
  {
   "cell_type": "code",
   "execution_count": 126,
   "metadata": {},
   "outputs": [
    {
     "data": {
      "image/png": "[encoded data removed]",
      "text/plain": [
       "<matplotlib.figure.Figure at 0x10ec6b550>"
      ]
     },
     "metadata": {},
     "output_type": "display_data"
    }
   ],
   "source": [
    "plt.plot([10,20,30,40,50],Acc_test)\n",
    "plt.title(\"Test Accuracy of predicting future Fuel choice\")\n",
    "plt.xlabel(\"Time in the Future\")\n",
    "plt.ylabel(\"Accuracy\")\n",
    "plt.show()"
   ]
  },
  {
   "cell_type": "code",
   "execution_count": null,
   "metadata": {
    "collapsed": true
   },
   "outputs": [],
   "source": []
  },
  {
   "cell_type": "code",
   "execution_count": 129,
   "metadata": {},
   "outputs": [
    {
     "data": {
      "image/png": "[encoded data removed]",
      "text/plain": [
       "<matplotlib.figure.Figure at 0x10e4a2f98>"
      ]
     },
     "metadata": {},
     "output_type": "display_data"
    }
   ],
   "source": [
    "importance = clf50.feature_importances_\n",
    "sorted_importance = pd.DataFrame([importance], None, training_data.columns[:training_data.shape[1]-STEPS_INTO_PAST_AND_FUTURE].values).T\n",
    "sorted_importance = sorted_importance.sort_values(0, ascending=False)\n",
    "sorted_importance[:10].plot(kind='bar')\n",
    "plt.show()"
   ]
  },
  {
   "cell_type": "code",
   "execution_count": null,
   "metadata": {
    "collapsed": true
   },
   "outputs": [],
   "source": []
  }
 ],
 "metadata": {
  "kernelspec": {
   "display_name": "Python 3",
   "language": "python",
   "name": "python3"
  },
  "language_info": {
   "codemirror_mode": {
    "name": "ipython",
    "version": 3
   },
   "file_extension": ".py",
   "mimetype": "text/x-python",
   "name": "python",
   "nbconvert_exporter": "python",
   "pygments_lexer": "ipython3",
   "version": "3.6.3"
  }
 },
 "nbformat": 4,
 "nbformat_minor": 2
}
