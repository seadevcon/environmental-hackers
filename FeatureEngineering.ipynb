{
 "cells": [
  {
   "cell_type": "code",
   "execution_count": 8,
   "metadata": {
    "collapsed": true
   },
   "outputs": [],
   "source": [
    "import matplotlib.pyplot as plt\n",
    "import pandas as pd\n",
    "import numpy as np"
   ]
  },
  {
   "cell_type": "markdown",
   "metadata": {},
   "source": [
    "I kept the Name FeatureEngineering to avoid confusion, but it's Data cleaning of the seadevcon data log from Ship W50DF_00092 Engine 01 that is done in this Notebook. Runlog and SeaDevCon_AISdailyaggregates_sanitized are <u>NOT</u> used or cleaned here. The Predictions in the \"Modelling\" Notebook are only based on the cleaned seadevcon data of engine 1 of this one Ship. I hope this helps to avoid confusion. \n",
    "\n",
    "P.s. please excuse some errors and (smaller) mistakes in the last version of this, I worked on it between 7 pm and 5 am. I tried to make this Version more understandable and fixed some bugs."
   ]
  },
  {
   "cell_type": "markdown",
   "metadata": {},
   "source": [
    "<h1>Read in the data:</h1>"
   ]
  },
  {
   "cell_type": "code",
   "execution_count": 9,
   "metadata": {},
   "outputs": [],
   "source": [
    "PATH = \"/Users/basti/Documents/MLDatasets/SeaDevConChallange/\"\n",
    "SHIP1 = PATH + \"W50DF_00092/\"\n",
    "SHIP1_engine1 = \"W50DF_00092\" + \"_01\"\n",
    "ship1_seadevcon_init = pd.read_csv(SHIP1 + \"W50DF_00092_01_seadevcon.csv\") # 0:MDF = Diesel # HFO = Heavy fule oil # Gas\n",
    "# ship1_runlog_init = pd.read_csv(SHIP1 + \"W50DF_00092_01_runlog.csv\") # only seadevcon will be cleaned in this file.\n",
    "# ships_info = pd.read_csv(PATH + \"SeaDevCon_AISdailyaggregates_sanitized.csv\", sep=';') # error_bad_lines=False -> entfernt die lines aber, das vielleicht nicht so gut.\n",
    "tags = pd.read_csv(PATH + \"SensorTags_SeaDevCon.csv\", sep='\\t', header=None)"
   ]
  },
  {
   "cell_type": "markdown",
   "metadata": {},
   "source": [
    "Information from the ship expert:\n",
    "\n",
    "Potential reasons why the ship is not running on Gas:\n",
    "- Gas tank is empty\n",
    "- Gas tank getting to hot resulting in high pressure and burning of hight amounts of Gas (maybe some Gas is wasted while this)\n"
   ]
  },
  {
   "cell_type": "code",
   "execution_count": 56,
   "metadata": {
    "collapsed": true
   },
   "outputs": [],
   "source": [
    "SHIP = \"W50DF_00092\""
   ]
  },
  {
   "cell_type": "markdown",
   "metadata": {},
   "source": [
    "<h2> Remove 2/3 of the features (min/max values) </h2>"
   ]
  },
  {
   "cell_type": "code",
   "execution_count": 11,
   "metadata": {},
   "outputs": [
    {
     "name": "stdout",
     "output_type": "stream",
     "text": [
      "Before: (699768, 249)\n",
      "After:  (699768, 87)\n",
      "Removed 162 features\n"
     ]
    }
   ],
   "source": [
    "print(\"Before:\",ship1_seadevcon_init.shape)\n",
    "remove_tags = []\n",
    "for colTag in ship1_seadevcon_init:\n",
    "    if \"_max\" in colTag or \"_min\" in colTag:\n",
    "        remove_tags.append(colTag)\n",
    "\n",
    "ship1_seadevcon = ship1_seadevcon_init.drop(remove_tags, axis=1)\n",
    "print(\"After: \",ship1_seadevcon.shape)\n",
    "print(\"Removed\",len(remove_tags),\"features\")"
   ]
  },
  {
   "cell_type": "markdown",
   "metadata": {},
   "source": [
    "<h1>Plot the Tables</h1>"
   ]
  },
  {
   "cell_type": "code",
   "execution_count": 55,
   "metadata": {},
   "outputs": [
    {
     "name": "stdout",
     "output_type": "stream",
     "text": [
      "Seadevcon:\n",
      "(406715, 83)\n"
     ]
    },
    {
     "data": {
      "text/html": [
       "<div>\n",
       "<style scoped>\n",
       "    .dataframe tbody tr th:only-of-type {\n",
       "        vertical-align: middle;\n",
       "    }\n",
       "\n",
       "    .dataframe tbody tr th {\n",
       "        vertical-align: top;\n",
       "    }\n",
       "\n",
       "    .dataframe thead th {\n",
       "        text-align: right;\n",
       "    }\n",
       "</style>\n",
       "<table border=\"1\" class=\"dataframe\">\n",
       "  <thead>\n",
       "    <tr style=\"text-align: right;\">\n",
       "      <th></th>\n",
       "      <th>Enclosure underpressure GVU, PDS01</th>\n",
       "      <th>Inlet gas pressure</th>\n",
       "      <th>Gas pressure between shut-off valves</th>\n",
       "      <th>Inert gas pressure</th>\n",
       "      <th>Instrument air pressure GVU, PT006</th>\n",
       "      <th>Inlet gas temperature</th>\n",
       "      <th>Fuel rack control</th>\n",
       "      <th>Exh WG valve control value</th>\n",
       "      <th>By Pass valve control</th>\n",
       "      <th>MFI duration offset, cyl A1</th>\n",
       "      <th>...</th>\n",
       "      <th>CA temp, engine inlet, TE601</th>\n",
       "      <th>Engine exh. gas average temp, TY500</th>\n",
       "      <th>Engine load feedback, torque</th>\n",
       "      <th>Torsional vibration level, mean</th>\n",
       "      <th>Calculated engine load</th>\n",
       "      <th>RunNumber</th>\n",
       "      <th>MinutesSinceStart</th>\n",
       "      <th>CumRunningHours</th>\n",
       "      <th>FuelTypeAnalog</th>\n",
       "      <th>Load</th>\n",
       "    </tr>\n",
       "  </thead>\n",
       "  <tbody>\n",
       "    <tr>\n",
       "      <th>1828</th>\n",
       "      <td>-57.500000</td>\n",
       "      <td>5.8</td>\n",
       "      <td>5.86</td>\n",
       "      <td>8.53</td>\n",
       "      <td>6.320</td>\n",
       "      <td>38.700001</td>\n",
       "      <td>0.0</td>\n",
       "      <td>18.236111</td>\n",
       "      <td>0.0</td>\n",
       "      <td>97.683335</td>\n",
       "      <td>...</td>\n",
       "      <td>39.700001</td>\n",
       "      <td>476.299988</td>\n",
       "      <td>52.844200</td>\n",
       "      <td>114.898305</td>\n",
       "      <td>2821.50</td>\n",
       "      <td>42</td>\n",
       "      <td>334.0</td>\n",
       "      <td>25.022318</td>\n",
       "      <td>2</td>\n",
       "      <td>48.741905</td>\n",
       "    </tr>\n",
       "    <tr>\n",
       "      <th>1829</th>\n",
       "      <td>-57.500000</td>\n",
       "      <td>5.8</td>\n",
       "      <td>5.86</td>\n",
       "      <td>8.53</td>\n",
       "      <td>6.320</td>\n",
       "      <td>38.700001</td>\n",
       "      <td>0.0</td>\n",
       "      <td>18.229268</td>\n",
       "      <td>0.0</td>\n",
       "      <td>97.741669</td>\n",
       "      <td>...</td>\n",
       "      <td>39.700001</td>\n",
       "      <td>476.299988</td>\n",
       "      <td>52.770000</td>\n",
       "      <td>129.127119</td>\n",
       "      <td>2741.70</td>\n",
       "      <td>42</td>\n",
       "      <td>336.0</td>\n",
       "      <td>25.055651</td>\n",
       "      <td>2</td>\n",
       "      <td>48.754955</td>\n",
       "    </tr>\n",
       "    <tr>\n",
       "      <th>1830</th>\n",
       "      <td>-57.500000</td>\n",
       "      <td>5.8</td>\n",
       "      <td>5.86</td>\n",
       "      <td>8.53</td>\n",
       "      <td>6.320</td>\n",
       "      <td>38.700001</td>\n",
       "      <td>0.0</td>\n",
       "      <td>18.285106</td>\n",
       "      <td>0.0</td>\n",
       "      <td>97.800003</td>\n",
       "      <td>...</td>\n",
       "      <td>39.700001</td>\n",
       "      <td>476.299988</td>\n",
       "      <td>53.109362</td>\n",
       "      <td>120.689655</td>\n",
       "      <td>2781.60</td>\n",
       "      <td>42</td>\n",
       "      <td>338.0</td>\n",
       "      <td>25.088984</td>\n",
       "      <td>2</td>\n",
       "      <td>48.705455</td>\n",
       "    </tr>\n",
       "    <tr>\n",
       "      <th>1831</th>\n",
       "      <td>-57.620690</td>\n",
       "      <td>5.8</td>\n",
       "      <td>5.86</td>\n",
       "      <td>8.53</td>\n",
       "      <td>6.320</td>\n",
       "      <td>38.700001</td>\n",
       "      <td>0.0</td>\n",
       "      <td>17.945238</td>\n",
       "      <td>0.0</td>\n",
       "      <td>97.800003</td>\n",
       "      <td>...</td>\n",
       "      <td>39.700001</td>\n",
       "      <td>476.299988</td>\n",
       "      <td>52.574340</td>\n",
       "      <td>122.145299</td>\n",
       "      <td>2844.30</td>\n",
       "      <td>42</td>\n",
       "      <td>340.0</td>\n",
       "      <td>25.122318</td>\n",
       "      <td>2</td>\n",
       "      <td>48.128070</td>\n",
       "    </tr>\n",
       "    <tr>\n",
       "      <th>1832</th>\n",
       "      <td>-57.463415</td>\n",
       "      <td>5.8</td>\n",
       "      <td>5.86</td>\n",
       "      <td>8.53</td>\n",
       "      <td>6.315</td>\n",
       "      <td>38.700001</td>\n",
       "      <td>0.0</td>\n",
       "      <td>18.168182</td>\n",
       "      <td>0.0</td>\n",
       "      <td>97.400002</td>\n",
       "      <td>...</td>\n",
       "      <td>39.700001</td>\n",
       "      <td>476.299988</td>\n",
       "      <td>53.131538</td>\n",
       "      <td>115.230769</td>\n",
       "      <td>2847.15</td>\n",
       "      <td>42</td>\n",
       "      <td>342.0</td>\n",
       "      <td>25.155651</td>\n",
       "      <td>2</td>\n",
       "      <td>48.594643</td>\n",
       "    </tr>\n",
       "  </tbody>\n",
       "</table>\n",
       "<p>5 rows × 83 columns</p>\n",
       "</div>"
      ],
      "text/plain": [
       "      Enclosure underpressure GVU, PDS01  Inlet gas pressure  \\\n",
       "1828                          -57.500000                 5.8   \n",
       "1829                          -57.500000                 5.8   \n",
       "1830                          -57.500000                 5.8   \n",
       "1831                          -57.620690                 5.8   \n",
       "1832                          -57.463415                 5.8   \n",
       "\n",
       "      Gas pressure between shut-off valves  Inert gas pressure  \\\n",
       "1828                                  5.86                8.53   \n",
       "1829                                  5.86                8.53   \n",
       "1830                                  5.86                8.53   \n",
       "1831                                  5.86                8.53   \n",
       "1832                                  5.86                8.53   \n",
       "\n",
       "      Instrument air pressure GVU, PT006  Inlet gas temperature  \\\n",
       "1828                               6.320              38.700001   \n",
       "1829                               6.320              38.700001   \n",
       "1830                               6.320              38.700001   \n",
       "1831                               6.320              38.700001   \n",
       "1832                               6.315              38.700001   \n",
       "\n",
       "      Fuel rack control  Exh WG valve control value  By Pass valve control  \\\n",
       "1828                0.0                   18.236111                    0.0   \n",
       "1829                0.0                   18.229268                    0.0   \n",
       "1830                0.0                   18.285106                    0.0   \n",
       "1831                0.0                   17.945238                    0.0   \n",
       "1832                0.0                   18.168182                    0.0   \n",
       "\n",
       "      MFI duration offset, cyl A1    ...      CA temp, engine inlet, TE601  \\\n",
       "1828                    97.683335    ...                         39.700001   \n",
       "1829                    97.741669    ...                         39.700001   \n",
       "1830                    97.800003    ...                         39.700001   \n",
       "1831                    97.800003    ...                         39.700001   \n",
       "1832                    97.400002    ...                         39.700001   \n",
       "\n",
       "      Engine exh. gas average temp, TY500  Engine load feedback, torque  \\\n",
       "1828                           476.299988                     52.844200   \n",
       "1829                           476.299988                     52.770000   \n",
       "1830                           476.299988                     53.109362   \n",
       "1831                           476.299988                     52.574340   \n",
       "1832                           476.299988                     53.131538   \n",
       "\n",
       "      Torsional vibration level, mean  Calculated engine load  RunNumber  \\\n",
       "1828                       114.898305                 2821.50         42   \n",
       "1829                       129.127119                 2741.70         42   \n",
       "1830                       120.689655                 2781.60         42   \n",
       "1831                       122.145299                 2844.30         42   \n",
       "1832                       115.230769                 2847.15         42   \n",
       "\n",
       "      MinutesSinceStart  CumRunningHours  FuelTypeAnalog       Load  \n",
       "1828              334.0        25.022318               2  48.741905  \n",
       "1829              336.0        25.055651               2  48.754955  \n",
       "1830              338.0        25.088984               2  48.705455  \n",
       "1831              340.0        25.122318               2  48.128070  \n",
       "1832              342.0        25.155651               2  48.594643  \n",
       "\n",
       "[5 rows x 83 columns]"
      ]
     },
     "execution_count": 55,
     "metadata": {},
     "output_type": "execute_result"
    }
   ],
   "source": [
    "print(\"Seadevcon:\")\n",
    "print(ship1_seadevcon.shape)\n",
    "ship1_seadevcon.head()"
   ]
  },
  {
   "cell_type": "code",
   "execution_count": 14,
   "metadata": {},
   "outputs": [],
   "source": [
    "# this is not used in this file any more.\n",
    "# print(\"Ship Runlog\")\n",
    "# print(ship1_runlog_init.shape)\n",
    "# ship1_runlog_init.head()"
   ]
  },
  {
   "cell_type": "code",
   "execution_count": 15,
   "metadata": {},
   "outputs": [],
   "source": [
    "# this is not used in this file any more.\n",
    "# print(\"AIS daily aggregates\")\n",
    "# print(ships_info.shape)\n",
    "# ships_info.head()"
   ]
  },
  {
   "cell_type": "code",
   "execution_count": 16,
   "metadata": {},
   "outputs": [
    {
     "name": "stdout",
     "output_type": "stream",
     "text": [
      "Sensor Tags\n",
      "(2669, 4)\n"
     ]
    },
    {
     "data": {
      "text/html": [
       "<div>\n",
       "<style scoped>\n",
       "    .dataframe tbody tr th:only-of-type {\n",
       "        vertical-align: middle;\n",
       "    }\n",
       "\n",
       "    .dataframe tbody tr th {\n",
       "        vertical-align: top;\n",
       "    }\n",
       "\n",
       "    .dataframe thead th {\n",
       "        text-align: right;\n",
       "    }\n",
       "</style>\n",
       "<table border=\"1\" class=\"dataframe\">\n",
       "  <thead>\n",
       "    <tr style=\"text-align: right;\">\n",
       "      <th></th>\n",
       "      <th>0</th>\n",
       "      <th>1</th>\n",
       "      <th>2</th>\n",
       "      <th>3</th>\n",
       "    </tr>\n",
       "  </thead>\n",
       "  <tbody>\n",
       "    <tr>\n",
       "      <th>0</th>\n",
       "      <td>3</td>\n",
       "      <td>W50_00059_01</td>\n",
       "      <td>BAG011UP01PV</td>\n",
       "      <td>Generator max. active power</td>\n",
       "    </tr>\n",
       "    <tr>\n",
       "      <th>1</th>\n",
       "      <td>93</td>\n",
       "      <td>W50_00059_01</td>\n",
       "      <td>SCA011CV124PV</td>\n",
       "      <td>Pilot FO press control</td>\n",
       "    </tr>\n",
       "    <tr>\n",
       "      <th>2</th>\n",
       "      <td>94</td>\n",
       "      <td>W50_00059_01</td>\n",
       "      <td>SCA011CV161PV</td>\n",
       "      <td>Fuel Rack Control, CV161</td>\n",
       "    </tr>\n",
       "    <tr>\n",
       "      <th>3</th>\n",
       "      <td>95</td>\n",
       "      <td>W50_00059_01</td>\n",
       "      <td>SCA011CV432PV</td>\n",
       "      <td>HT valve position, control value</td>\n",
       "    </tr>\n",
       "    <tr>\n",
       "      <th>4</th>\n",
       "      <td>96</td>\n",
       "      <td>W50_00059_01</td>\n",
       "      <td>SCA011CV493PV</td>\n",
       "      <td>LT valve position, control value</td>\n",
       "    </tr>\n",
       "  </tbody>\n",
       "</table>\n",
       "</div>"
      ],
      "text/plain": [
       "    0             1              2                                 3\n",
       "0   3  W50_00059_01   BAG011UP01PV       Generator max. active power\n",
       "1  93  W50_00059_01  SCA011CV124PV            Pilot FO press control\n",
       "2  94  W50_00059_01  SCA011CV161PV          Fuel Rack Control, CV161\n",
       "3  95  W50_00059_01  SCA011CV432PV  HT valve position, control value\n",
       "4  96  W50_00059_01  SCA011CV493PV  LT valve position, control value"
      ]
     },
     "execution_count": 16,
     "metadata": {},
     "output_type": "execute_result"
    }
   ],
   "source": [
    "print(\"Sensor Tags\")\n",
    "print(tags.shape)\n",
    "tags.head()"
   ]
  },
  {
   "cell_type": "markdown",
   "metadata": {},
   "source": [
    "<h1>Replace column name tags with real names </h1>"
   ]
  },
  {
   "cell_type": "code",
   "execution_count": 17,
   "metadata": {},
   "outputs": [],
   "source": [
    "columns = list(ship1_seadevcon.columns.values)\n",
    "for i, colTag in enumerate(columns):\n",
    "    # print(colTag)\n",
    "    # allready removed all _min and _max values above, so this 2 lines below are unnecessary (it was a bad idea anyways).\n",
    "    # if \"_max\" in colTag or \"_min\" in colTag: # remove _min or _max\n",
    "    #     colTag = colTag[:-4]\n",
    "    if colTag in tags[2].values:\n",
    "        # find row in tags dataFrame which contains the current tag that we are searching the name for.\n",
    "        a = tags.loc[tags[2] == colTag] # a = the rows\n",
    "        b = a.loc[a[1] == SHIP1_engine1]\n",
    "        columns[i] = b[3].values[0]\n",
    "        # print(b[3].values[0])\n",
    "ship1_seadevcon1 = pd.DataFrame(ship1_seadevcon.values, None, columns) # copies whole dataset into new pd frame. Takes a lot of time."
   ]
  },
  {
   "cell_type": "code",
   "execution_count": 18,
   "metadata": {
    "collapsed": true
   },
   "outputs": [],
   "source": [
    "ship1_seadevcon = ship1_seadevcon1"
   ]
  },
  {
   "cell_type": "code",
   "execution_count": 19,
   "metadata": {},
   "outputs": [
    {
     "name": "stdout",
     "output_type": "stream",
     "text": [
      "True\n"
     ]
    }
   ],
   "source": [
    "# important for comparison with ship1_runlog. Comparison is done in SomeDataAnalysis Notebook (not here).\n",
    "print(\"RunNumber\" in ship1_seadevcon) "
   ]
  },
  {
   "cell_type": "markdown",
   "metadata": {},
   "source": [
    "<h2>Transform text features into Numerical ones</h2>"
   ]
  },
  {
   "cell_type": "code",
   "execution_count": 20,
   "metadata": {
    "collapsed": true
   },
   "outputs": [],
   "source": [
    "for col in ['mode','FuelTypeAnalog']:\n",
    "    labels, uniques = ship1_seadevcon[col].factorize(na_sentinel=-1)\n",
    "    lab = pd.DataFrame(labels)\n",
    "    lab[lab < 0] = 'NaN'\n",
    "    lab = lab.astype(np.float64)\n",
    "    ship1_seadevcon[col] = lab\n",
    "\n",
    "# mode and FuelTypeAnalog are float for now. Will be replaced later by bool and int."
   ]
  },
  {
   "cell_type": "markdown",
   "metadata": {},
   "source": [
    "<h2>Remove (2) useless features (>80% NaN values)</h2>"
   ]
  },
  {
   "cell_type": "code",
   "execution_count": 21,
   "metadata": {},
   "outputs": [
    {
     "name": "stdout",
     "output_type": "stream",
     "text": [
      "Removed:  ['ts', 'SCA011GTY1623PV_C'] because more than 80.0 % are NaN\n"
     ]
    }
   ],
   "source": [
    "PERCENT_NAN_REMOVE = 0.8 # remove features that have more than 80% NaN values\n",
    "percent_nan = []\n",
    "remove_tags = []\n",
    "for col in ship1_seadevcon:\n",
    "    ship_df = ship1_seadevcon[col]\n",
    "    nans = np.sum(ship_df.isnull().values)\n",
    "    percent_nan.append(nans/ship_df.shape[0])\n",
    "    if percent_nan[-1] > PERCENT_NAN_REMOVE:\n",
    "        remove_tags.append(col)\n",
    "print(\"Removed: \", remove_tags, \"because more than\",PERCENT_NAN_REMOVE*100,\"% are NaN\")\n",
    "ship1_seadevcon = ship1_seadevcon.drop(remove_tags, axis=1)"
   ]
  },
  {
   "cell_type": "markdown",
   "metadata": {},
   "source": [
    "<h2>Remove Rows where the engine is not running</h2>"
   ]
  },
  {
   "cell_type": "code",
   "execution_count": 36,
   "metadata": {},
   "outputs": [],
   "source": [
    "# plt.plot(list(range(ship1_seadevcon['mode'].shape[0])), ship1_seadevcon['mode'])\n",
    "# plt.show()"
   ]
  },
  {
   "cell_type": "code",
   "execution_count": 37,
   "metadata": {},
   "outputs": [
    {
     "name": "stdout",
     "output_type": "stream",
     "text": [
      "Removed 292278 rows. Equals 41.77 % of the data\n"
     ]
    }
   ],
   "source": [
    "before = ship1_seadevcon.shape[0]\n",
    "ship1_seadevcon1 = ship1_seadevcon[ship1_seadevcon['mode'] != 0.0]\n",
    "after = ship1_seadevcon1.shape[0]\n",
    "print(\"Removed\",before - after,\"rows. Equals\",np.round((before - after)/before*100,2),\"% of the data\")"
   ]
  },
  {
   "cell_type": "code",
   "execution_count": 38,
   "metadata": {},
   "outputs": [
    {
     "data": {
      "text/html": [
       "<div>\n",
       "<style scoped>\n",
       "    .dataframe tbody tr th:only-of-type {\n",
       "        vertical-align: middle;\n",
       "    }\n",
       "\n",
       "    .dataframe tbody tr th {\n",
       "        vertical-align: top;\n",
       "    }\n",
       "\n",
       "    .dataframe thead th {\n",
       "        text-align: right;\n",
       "    }\n",
       "</style>\n",
       "<table border=\"1\" class=\"dataframe\">\n",
       "  <thead>\n",
       "    <tr style=\"text-align: right;\">\n",
       "      <th></th>\n",
       "      <th>Enclosure underpressure GVU, PDS01</th>\n",
       "      <th>Inlet gas pressure</th>\n",
       "      <th>Gas pressure between shut-off valves</th>\n",
       "      <th>Inert gas pressure</th>\n",
       "      <th>Instrument air pressure GVU, PT006</th>\n",
       "      <th>Inlet gas temperature</th>\n",
       "      <th>Fuel rack control</th>\n",
       "      <th>Exh WG valve control value</th>\n",
       "      <th>By Pass valve control</th>\n",
       "      <th>MFI duration offset, cyl A1</th>\n",
       "      <th>...</th>\n",
       "      <th>CA temp, engine inlet, TE601</th>\n",
       "      <th>Engine exh. gas average temp, TY500</th>\n",
       "      <th>Engine load feedback, torque</th>\n",
       "      <th>Torsional vibration level, mean</th>\n",
       "      <th>Calculated engine load</th>\n",
       "      <th>RunNumber</th>\n",
       "      <th>MinutesSinceStart</th>\n",
       "      <th>CumRunningHours</th>\n",
       "      <th>FuelTypeAnalog</th>\n",
       "      <th>Load</th>\n",
       "    </tr>\n",
       "  </thead>\n",
       "  <tbody>\n",
       "    <tr>\n",
       "      <th>0</th>\n",
       "      <td>-0.00588462</td>\n",
       "      <td>0.02</td>\n",
       "      <td>0</td>\n",
       "      <td>8.56</td>\n",
       "      <td>6.29</td>\n",
       "      <td>23.2</td>\n",
       "      <td>NaN</td>\n",
       "      <td>0</td>\n",
       "      <td>NaN</td>\n",
       "      <td>100</td>\n",
       "      <td>...</td>\n",
       "      <td>43.7</td>\n",
       "      <td>70.3</td>\n",
       "      <td>NaN</td>\n",
       "      <td>0</td>\n",
       "      <td>0</td>\n",
       "      <td>NaN</td>\n",
       "      <td>NaN</td>\n",
       "      <td>NaN</td>\n",
       "      <td>0.0</td>\n",
       "      <td>0</td>\n",
       "    </tr>\n",
       "    <tr>\n",
       "      <th>356</th>\n",
       "      <td>NaN</td>\n",
       "      <td>NaN</td>\n",
       "      <td>NaN</td>\n",
       "      <td>NaN</td>\n",
       "      <td>6.295</td>\n",
       "      <td>NaN</td>\n",
       "      <td>51.7833</td>\n",
       "      <td>NaN</td>\n",
       "      <td>NaN</td>\n",
       "      <td>NaN</td>\n",
       "      <td>...</td>\n",
       "      <td>NaN</td>\n",
       "      <td>117.621</td>\n",
       "      <td>1815.55</td>\n",
       "      <td>66.3419</td>\n",
       "      <td>NaN</td>\n",
       "      <td>1</td>\n",
       "      <td>0</td>\n",
       "      <td>-0.000273611</td>\n",
       "      <td>0.0</td>\n",
       "      <td>NaN</td>\n",
       "    </tr>\n",
       "    <tr>\n",
       "      <th>357</th>\n",
       "      <td>NaN</td>\n",
       "      <td>NaN</td>\n",
       "      <td>NaN</td>\n",
       "      <td>NaN</td>\n",
       "      <td>6.29</td>\n",
       "      <td>NaN</td>\n",
       "      <td>25.8917</td>\n",
       "      <td>NaN</td>\n",
       "      <td>NaN</td>\n",
       "      <td>NaN</td>\n",
       "      <td>...</td>\n",
       "      <td>46.9</td>\n",
       "      <td>171.7</td>\n",
       "      <td>1831.88</td>\n",
       "      <td>41.9735</td>\n",
       "      <td>NaN</td>\n",
       "      <td>1</td>\n",
       "      <td>2</td>\n",
       "      <td>0.0330597</td>\n",
       "      <td>0.0</td>\n",
       "      <td>NaN</td>\n",
       "    </tr>\n",
       "    <tr>\n",
       "      <th>358</th>\n",
       "      <td>NaN</td>\n",
       "      <td>NaN</td>\n",
       "      <td>NaN</td>\n",
       "      <td>NaN</td>\n",
       "      <td>6.29</td>\n",
       "      <td>NaN</td>\n",
       "      <td>0</td>\n",
       "      <td>NaN</td>\n",
       "      <td>NaN</td>\n",
       "      <td>NaN</td>\n",
       "      <td>...</td>\n",
       "      <td>49</td>\n",
       "      <td>142.133</td>\n",
       "      <td>1109.89</td>\n",
       "      <td>146.329</td>\n",
       "      <td>NaN</td>\n",
       "      <td>1</td>\n",
       "      <td>4</td>\n",
       "      <td>0.0663931</td>\n",
       "      <td>0.0</td>\n",
       "      <td>NaN</td>\n",
       "    </tr>\n",
       "    <tr>\n",
       "      <th>685</th>\n",
       "      <td>-57.5</td>\n",
       "      <td>NaN</td>\n",
       "      <td>NaN</td>\n",
       "      <td>8.29</td>\n",
       "      <td>6.28</td>\n",
       "      <td>NaN</td>\n",
       "      <td>0</td>\n",
       "      <td>NaN</td>\n",
       "      <td>NaN</td>\n",
       "      <td>NaN</td>\n",
       "      <td>...</td>\n",
       "      <td>NaN</td>\n",
       "      <td>NaN</td>\n",
       "      <td>196.316</td>\n",
       "      <td>NaN</td>\n",
       "      <td>NaN</td>\n",
       "      <td>NaN</td>\n",
       "      <td>NaN</td>\n",
       "      <td>NaN</td>\n",
       "      <td>0.0</td>\n",
       "      <td>NaN</td>\n",
       "    </tr>\n",
       "  </tbody>\n",
       "</table>\n",
       "<p>5 rows × 84 columns</p>\n",
       "</div>"
      ],
      "text/plain": [
       "    Enclosure underpressure GVU, PDS01 Inlet gas pressure  \\\n",
       "0                          -0.00588462               0.02   \n",
       "356                                NaN                NaN   \n",
       "357                                NaN                NaN   \n",
       "358                                NaN                NaN   \n",
       "685                              -57.5                NaN   \n",
       "\n",
       "    Gas pressure between shut-off valves Inert gas pressure  \\\n",
       "0                                      0               8.56   \n",
       "356                                  NaN                NaN   \n",
       "357                                  NaN                NaN   \n",
       "358                                  NaN                NaN   \n",
       "685                                  NaN               8.29   \n",
       "\n",
       "    Instrument air pressure GVU, PT006 Inlet gas temperature  \\\n",
       "0                                 6.29                  23.2   \n",
       "356                              6.295                   NaN   \n",
       "357                               6.29                   NaN   \n",
       "358                               6.29                   NaN   \n",
       "685                               6.28                   NaN   \n",
       "\n",
       "    Fuel rack control Exh WG valve control value By Pass valve control  \\\n",
       "0                 NaN                          0                   NaN   \n",
       "356           51.7833                        NaN                   NaN   \n",
       "357           25.8917                        NaN                   NaN   \n",
       "358                 0                        NaN                   NaN   \n",
       "685                 0                        NaN                   NaN   \n",
       "\n",
       "    MFI duration offset, cyl A1 ...  CA temp, engine inlet, TE601  \\\n",
       "0                           100 ...                          43.7   \n",
       "356                         NaN ...                           NaN   \n",
       "357                         NaN ...                          46.9   \n",
       "358                         NaN ...                            49   \n",
       "685                         NaN ...                           NaN   \n",
       "\n",
       "    Engine exh. gas average temp, TY500 Engine load feedback, torque  \\\n",
       "0                                  70.3                          NaN   \n",
       "356                             117.621                      1815.55   \n",
       "357                               171.7                      1831.88   \n",
       "358                             142.133                      1109.89   \n",
       "685                                 NaN                      196.316   \n",
       "\n",
       "    Torsional vibration level, mean Calculated engine load RunNumber  \\\n",
       "0                                 0                      0       NaN   \n",
       "356                         66.3419                    NaN         1   \n",
       "357                         41.9735                    NaN         1   \n",
       "358                         146.329                    NaN         1   \n",
       "685                             NaN                    NaN       NaN   \n",
       "\n",
       "    MinutesSinceStart CumRunningHours FuelTypeAnalog Load  \n",
       "0                 NaN             NaN            0.0    0  \n",
       "356                 0    -0.000273611            0.0  NaN  \n",
       "357                 2       0.0330597            0.0  NaN  \n",
       "358                 4       0.0663931            0.0  NaN  \n",
       "685               NaN             NaN            0.0  NaN  \n",
       "\n",
       "[5 rows x 84 columns]"
      ]
     },
     "execution_count": 38,
     "metadata": {},
     "output_type": "execute_result"
    }
   ],
   "source": [
    "ship1_seadevcon = ship1_seadevcon1\n",
    "ship1_seadevcon = ship1_seadevcon.drop('mode', axis=1)\n",
    "ship1_seadevcon.head()"
   ]
  },
  {
   "cell_type": "markdown",
   "metadata": {},
   "source": [
    "<h2>Interpolate the missing data featurewise</h2>"
   ]
  },
  {
   "cell_type": "code",
   "execution_count": 39,
   "metadata": {},
   "outputs": [
    {
     "data": {
      "text/html": [
       "<div>\n",
       "<style scoped>\n",
       "    .dataframe tbody tr th:only-of-type {\n",
       "        vertical-align: middle;\n",
       "    }\n",
       "\n",
       "    .dataframe tbody tr th {\n",
       "        vertical-align: top;\n",
       "    }\n",
       "\n",
       "    .dataframe thead th {\n",
       "        text-align: right;\n",
       "    }\n",
       "</style>\n",
       "<table border=\"1\" class=\"dataframe\">\n",
       "  <thead>\n",
       "    <tr style=\"text-align: right;\">\n",
       "      <th></th>\n",
       "      <th>Enclosure underpressure GVU, PDS01</th>\n",
       "      <th>Inlet gas pressure</th>\n",
       "      <th>Gas pressure between shut-off valves</th>\n",
       "      <th>Inert gas pressure</th>\n",
       "      <th>Instrument air pressure GVU, PT006</th>\n",
       "      <th>Inlet gas temperature</th>\n",
       "      <th>Fuel rack control</th>\n",
       "      <th>Exh WG valve control value</th>\n",
       "      <th>By Pass valve control</th>\n",
       "      <th>MFI duration offset, cyl A1</th>\n",
       "      <th>...</th>\n",
       "      <th>CA temp, engine inlet, TE601</th>\n",
       "      <th>Engine exh. gas average temp, TY500</th>\n",
       "      <th>Engine load feedback, torque</th>\n",
       "      <th>Torsional vibration level, mean</th>\n",
       "      <th>Calculated engine load</th>\n",
       "      <th>RunNumber</th>\n",
       "      <th>MinutesSinceStart</th>\n",
       "      <th>CumRunningHours</th>\n",
       "      <th>FuelTypeAnalog</th>\n",
       "      <th>Load</th>\n",
       "    </tr>\n",
       "  </thead>\n",
       "  <tbody>\n",
       "    <tr>\n",
       "      <th>0</th>\n",
       "      <td>-0.005885</td>\n",
       "      <td>0.0200</td>\n",
       "      <td>0.0</td>\n",
       "      <td>8.5600</td>\n",
       "      <td>6.290</td>\n",
       "      <td>23.200001</td>\n",
       "      <td>51.783333</td>\n",
       "      <td>0.0</td>\n",
       "      <td>NaN</td>\n",
       "      <td>100.0</td>\n",
       "      <td>...</td>\n",
       "      <td>43.700001</td>\n",
       "      <td>70.300003</td>\n",
       "      <td>1815.545455</td>\n",
       "      <td>0.000000</td>\n",
       "      <td>0.0</td>\n",
       "      <td>1.0</td>\n",
       "      <td>0.0</td>\n",
       "      <td>-0.000274</td>\n",
       "      <td>0.0</td>\n",
       "      <td>0.0</td>\n",
       "    </tr>\n",
       "    <tr>\n",
       "      <th>356</th>\n",
       "      <td>-14.379413</td>\n",
       "      <td>0.0175</td>\n",
       "      <td>0.0</td>\n",
       "      <td>8.4925</td>\n",
       "      <td>6.295</td>\n",
       "      <td>23.012501</td>\n",
       "      <td>51.783333</td>\n",
       "      <td>0.0</td>\n",
       "      <td>NaN</td>\n",
       "      <td>100.0</td>\n",
       "      <td>...</td>\n",
       "      <td>45.300000</td>\n",
       "      <td>117.620833</td>\n",
       "      <td>1815.545455</td>\n",
       "      <td>66.341880</td>\n",
       "      <td>0.0</td>\n",
       "      <td>1.0</td>\n",
       "      <td>0.0</td>\n",
       "      <td>-0.000274</td>\n",
       "      <td>0.0</td>\n",
       "      <td>0.0</td>\n",
       "    </tr>\n",
       "    <tr>\n",
       "      <th>357</th>\n",
       "      <td>-28.752942</td>\n",
       "      <td>0.0150</td>\n",
       "      <td>0.0</td>\n",
       "      <td>8.4250</td>\n",
       "      <td>6.290</td>\n",
       "      <td>22.825001</td>\n",
       "      <td>25.891667</td>\n",
       "      <td>0.0</td>\n",
       "      <td>NaN</td>\n",
       "      <td>100.0</td>\n",
       "      <td>...</td>\n",
       "      <td>46.900000</td>\n",
       "      <td>171.700000</td>\n",
       "      <td>1831.880342</td>\n",
       "      <td>41.973451</td>\n",
       "      <td>0.0</td>\n",
       "      <td>1.0</td>\n",
       "      <td>2.0</td>\n",
       "      <td>0.033060</td>\n",
       "      <td>0.0</td>\n",
       "      <td>0.0</td>\n",
       "    </tr>\n",
       "    <tr>\n",
       "      <th>358</th>\n",
       "      <td>-43.126471</td>\n",
       "      <td>0.0125</td>\n",
       "      <td>0.0</td>\n",
       "      <td>8.3575</td>\n",
       "      <td>6.290</td>\n",
       "      <td>22.637501</td>\n",
       "      <td>0.000000</td>\n",
       "      <td>0.0</td>\n",
       "      <td>NaN</td>\n",
       "      <td>100.0</td>\n",
       "      <td>...</td>\n",
       "      <td>49.000000</td>\n",
       "      <td>142.133333</td>\n",
       "      <td>1109.888889</td>\n",
       "      <td>146.329268</td>\n",
       "      <td>0.0</td>\n",
       "      <td>1.0</td>\n",
       "      <td>4.0</td>\n",
       "      <td>0.066393</td>\n",
       "      <td>0.0</td>\n",
       "      <td>0.0</td>\n",
       "    </tr>\n",
       "    <tr>\n",
       "      <th>685</th>\n",
       "      <td>-57.500000</td>\n",
       "      <td>0.0100</td>\n",
       "      <td>0.0</td>\n",
       "      <td>8.2900</td>\n",
       "      <td>6.280</td>\n",
       "      <td>22.450001</td>\n",
       "      <td>0.000000</td>\n",
       "      <td>0.0</td>\n",
       "      <td>0.0</td>\n",
       "      <td>100.0</td>\n",
       "      <td>...</td>\n",
       "      <td>47.960000</td>\n",
       "      <td>127.866667</td>\n",
       "      <td>196.315789</td>\n",
       "      <td>117.063415</td>\n",
       "      <td>0.0</td>\n",
       "      <td>1.1</td>\n",
       "      <td>3.6</td>\n",
       "      <td>0.069143</td>\n",
       "      <td>0.0</td>\n",
       "      <td>0.0</td>\n",
       "    </tr>\n",
       "  </tbody>\n",
       "</table>\n",
       "<p>5 rows × 84 columns</p>\n",
       "</div>"
      ],
      "text/plain": [
       "     Enclosure underpressure GVU, PDS01  Inlet gas pressure  \\\n",
       "0                             -0.005885              0.0200   \n",
       "356                          -14.379413              0.0175   \n",
       "357                          -28.752942              0.0150   \n",
       "358                          -43.126471              0.0125   \n",
       "685                          -57.500000              0.0100   \n",
       "\n",
       "     Gas pressure between shut-off valves  Inert gas pressure  \\\n",
       "0                                     0.0              8.5600   \n",
       "356                                   0.0              8.4925   \n",
       "357                                   0.0              8.4250   \n",
       "358                                   0.0              8.3575   \n",
       "685                                   0.0              8.2900   \n",
       "\n",
       "     Instrument air pressure GVU, PT006  Inlet gas temperature  \\\n",
       "0                                 6.290              23.200001   \n",
       "356                               6.295              23.012501   \n",
       "357                               6.290              22.825001   \n",
       "358                               6.290              22.637501   \n",
       "685                               6.280              22.450001   \n",
       "\n",
       "     Fuel rack control  Exh WG valve control value  By Pass valve control  \\\n",
       "0            51.783333                         0.0                    NaN   \n",
       "356          51.783333                         0.0                    NaN   \n",
       "357          25.891667                         0.0                    NaN   \n",
       "358           0.000000                         0.0                    NaN   \n",
       "685           0.000000                         0.0                    0.0   \n",
       "\n",
       "     MFI duration offset, cyl A1  ...   CA temp, engine inlet, TE601  \\\n",
       "0                          100.0  ...                      43.700001   \n",
       "356                        100.0  ...                      45.300000   \n",
       "357                        100.0  ...                      46.900000   \n",
       "358                        100.0  ...                      49.000000   \n",
       "685                        100.0  ...                      47.960000   \n",
       "\n",
       "     Engine exh. gas average temp, TY500  Engine load feedback, torque  \\\n",
       "0                              70.300003                   1815.545455   \n",
       "356                           117.620833                   1815.545455   \n",
       "357                           171.700000                   1831.880342   \n",
       "358                           142.133333                   1109.888889   \n",
       "685                           127.866667                    196.315789   \n",
       "\n",
       "     Torsional vibration level, mean  Calculated engine load  RunNumber  \\\n",
       "0                           0.000000                     0.0        1.0   \n",
       "356                        66.341880                     0.0        1.0   \n",
       "357                        41.973451                     0.0        1.0   \n",
       "358                       146.329268                     0.0        1.0   \n",
       "685                       117.063415                     0.0        1.1   \n",
       "\n",
       "     MinutesSinceStart  CumRunningHours  FuelTypeAnalog  Load  \n",
       "0                  0.0        -0.000274             0.0   0.0  \n",
       "356                0.0        -0.000274             0.0   0.0  \n",
       "357                2.0         0.033060             0.0   0.0  \n",
       "358                4.0         0.066393             0.0   0.0  \n",
       "685                3.6         0.069143             0.0   0.0  \n",
       "\n",
       "[5 rows x 84 columns]"
      ]
     },
     "execution_count": 39,
     "metadata": {},
     "output_type": "execute_result"
    }
   ],
   "source": [
    "# Transform to float so interpolate() works below (mode and FuelTypeAnalog must be factorized already)\n",
    "for col in ship1_seadevcon:\n",
    "    ship1_seadevcon[col] = ship1_seadevcon[col].astype(np.float64)\n",
    "ship1_seadevcon = ship1_seadevcon.interpolate(limit=8, limit_direction='both')\n",
    "ship1_seadevcon.head()"
   ]
  },
  {
   "cell_type": "markdown",
   "metadata": {},
   "source": [
    "<h2>Replace NaN values with interpolate if there are less than 0.2% NaN</h2>"
   ]
  },
  {
   "cell_type": "code",
   "execution_count": 40,
   "metadata": {},
   "outputs": [
    {
     "name": "stdout",
     "output_type": "stream",
     "text": [
      "Removed:  ['Global MFI demand, gas'] because more than 0.2 % are NaN\n"
     ]
    }
   ],
   "source": [
    "PERCENT_NAN_REMOVE = 0.002 # remove features that have more than 0.2% NaN values # others replace with interpolation\n",
    "percent_nan = []\n",
    "remove_tags = []\n",
    "for col in ship1_seadevcon:\n",
    "    ship_df = ship1_seadevcon[col]\n",
    "    nans = np.sum(ship_df.isnull().values)\n",
    "    percent_nan.append(nans/ship_df.shape[0])\n",
    "    if percent_nan[-1] > PERCENT_NAN_REMOVE:\n",
    "        remove_tags.append(col)\n",
    "ship1_seadevcon = ship1_seadevcon.drop(remove_tags, axis=1) # remove tags\n",
    "print(\"Removed: \", remove_tags, \"because more than\",PERCENT_NAN_REMOVE*100,\"% are NaN\")\n",
    "\n",
    "# interpolate the rest:\n",
    "ship1_seadevcon = ship1_seadevcon.interpolate()"
   ]
  },
  {
   "cell_type": "code",
   "execution_count": 41,
   "metadata": {
    "collapsed": true
   },
   "outputs": [],
   "source": [
    "# Change to usefull dtypes:\n",
    "# ship1_seadevcon['mode'] = ship1_seadevcon['mode'].astype(np.bool) # removed\n",
    "ship1_seadevcon['FuelTypeAnalog'] = ship1_seadevcon['FuelTypeAnalog'].astype(np.int8)\n",
    "ship1_seadevcon['RunNumber'] = ship1_seadevcon['RunNumber'].astype(np.int32) # HERE WAS A MISTAKE. \n",
    "    # ofcause int8 was not enough to represent all run numbers.\n",
    "\n",
    "# plot data in between ... (what head() is not printing):\n",
    "# ship1_seadevcon.iloc[:,30:50]\n",
    "# ship1_seadevcon.iloc[:,50:70]"
   ]
  },
  {
   "cell_type": "code",
   "execution_count": 42,
   "metadata": {},
   "outputs": [
    {
     "data": {
      "image/png": "[encoded data removed]",
      "text/plain": [
       "<matplotlib.figure.Figure at 0x1c1e72e48>"
      ]
     },
     "metadata": {},
     "output_type": "display_data"
    }
   ],
   "source": [
    "# Problem from last version is fixed. Run Numbers are correct now\n",
    "plt.scatter(ship1_seadevcon[\"RunNumber\"].index,ship1_seadevcon[\"RunNumber\"])\n",
    "plt.show()"
   ]
  },
  {
   "cell_type": "code",
   "execution_count": 43,
   "metadata": {},
   "outputs": [
    {
     "name": "stdout",
     "output_type": "stream",
     "text": [
      "(407490, 83)\n"
     ]
    }
   ],
   "source": [
    "print(ship1_seadevcon.shape)"
   ]
  },
  {
   "cell_type": "code",
   "execution_count": 48,
   "metadata": {},
   "outputs": [
    {
     "name": "stdout",
     "output_type": "stream",
     "text": [
      "By Pass valve control still has NaN values but only rows will be removed below, not the whole column\n",
      "Fuel demand, pptt still has NaN values but only rows will be removed below, not the whole column\n"
     ]
    }
   ],
   "source": [
    "# check if columns have NaN values:\n",
    "remove_tags = []\n",
    "for col in ship1_seadevcon:\n",
    "    if ship1_seadevcon[col].isnull().values.any():\n",
    "        print(col, \"still has NaN values but only rows will be removed below, not the whole column.\")\n",
    "        remove_tags.append(col)\n",
    "# remove ->column<-:\n",
    "# ship1_seadevcon = ship1_seadevcon.drop(remove_tags, axis=1)"
   ]
  },
  {
   "cell_type": "markdown",
   "metadata": {},
   "source": [
    "<h2>Remove <u>Rows</u> that are still NaN</h2>"
   ]
  },
  {
   "cell_type": "code",
   "execution_count": 46,
   "metadata": {},
   "outputs": [
    {
     "data": {
      "text/plain": [
       "(407490, 83)"
      ]
     },
     "execution_count": 46,
     "metadata": {},
     "output_type": "execute_result"
    }
   ],
   "source": [
    "ship1_seadevcon.shape"
   ]
  },
  {
   "cell_type": "code",
   "execution_count": 49,
   "metadata": {},
   "outputs": [
    {
     "name": "stdout",
     "output_type": "stream",
     "text": [
      "Removed 775 rows because at least one feature had NaN value\n",
      "This is 0.19 % of the whole dataset\n"
     ]
    }
   ],
   "source": [
    "before = ship1_seadevcon.shape\n",
    "ship1_seadevcon = ship1_seadevcon.dropna(axis=0) # <---------- dropna\n",
    "print(\"Removed\", (before[0] - ship1_seadevcon.shape[0]), \"rows because at least one feature had NaN value\")\n",
    "print(\"This is\", np.round((before[0] - ship1_seadevcon.shape[0])/before[0]*100, 2),\"% of the whole dataset\")"
   ]
  },
  {
   "cell_type": "code",
   "execution_count": 50,
   "metadata": {
    "collapsed": true
   },
   "outputs": [],
   "source": [
    "''' Save ship1_seadevcon to file'''\n",
    "ship1_seadevcon.to_pickle(\"ship1_seadevcon\")"
   ]
  },
  {
   "cell_type": "markdown",
   "metadata": {
    "scrolled": true
   },
   "source": [
    "<h1>Inspect Objective</h1>"
   ]
  },
  {
   "cell_type": "code",
   "execution_count": 12,
   "metadata": {},
   "outputs": [
    {
     "name": "stdout",
     "output_type": "stream",
     "text": [
      "HFO\n",
      "Gas\n",
      "GasDiesel\n",
      "MDF\n"
     ]
    }
   ],
   "source": [
    "ful = ship1_seadevcon['FuelTypeAnalog']\n",
    "print(ful[608580]) # HFO -> 3 # 424\n",
    "print(ful[964])    # Gas -> 2 # 340022\n",
    "print(ful[931])    # GasDiesel -> 1 # 12031\n",
    "print(ful[20])     # MDF -> 0 # MDF # 347269\n",
    "# print(len(np.where(ful[:] == \"MDF\")[0]))"
   ]
  },
  {
   "cell_type": "code",
   "execution_count": 51,
   "metadata": {
    "collapsed": true
   },
   "outputs": [],
   "source": [
    "# Remove outliers from Objective (FuelTypeAnalog):\n",
    "# ship1_seadevcon = ship1_seadevcon[ship1_seadevcon['FuelTypeAnalog'] < 3] # 3 ist Schweröl. Nicht rausnehmen!\n",
    "objective = ship1_seadevcon['FuelTypeAnalog']"
   ]
  },
  {
   "cell_type": "code",
   "execution_count": 52,
   "metadata": {
    "collapsed": true
   },
   "outputs": [],
   "source": [
    "#print(ship1_seadevcon.columns.values)"
   ]
  },
  {
   "cell_type": "code",
   "execution_count": 53,
   "metadata": {},
   "outputs": [
    {
     "data": {
      "image/png": "[encoded data removed]",
      "text/plain": [
       "<matplotlib.figure.Figure at 0x163cd9940>"
      ]
     },
     "metadata": {},
     "output_type": "display_data"
    },
    {
     "name": "stdout",
     "output_type": "stream",
     "text": [
      "As we can see, sometimes the engin runs with Diesel instead of Gas. This is expensive.\n",
      "Heavy Oil -> 3   (42)\n",
      "Gas -> 2         (340022)\n",
      "GasDiesel -> 1   (12031)\n",
      "Diesel -> 0      (347269)\n"
     ]
    }
   ],
   "source": [
    "# Plot an interesting area of Objective\n",
    "obj = objective[34000:38000]\n",
    "plt.plot(range(obj.shape[0]), obj)\n",
    "plt.xlabel(\"Time\")\n",
    "plt.ylabel(\"Fuel Type\")\n",
    "plt.show()\n",
    "print(\"As we can see, sometimes the engin runs with Diesel instead of Gas. This is expensive.\")\n",
    "print(\"Heavy Oil -> 3   (42)\")\n",
    "print(\"Gas -> 2         (340022)\")\n",
    "print(\"GasDiesel -> 1   (12031)\")\n",
    "print(\"Diesel -> 0      (347269)\")"
   ]
  },
  {
   "cell_type": "markdown",
   "metadata": {},
   "source": [
    "<h3>It's important to note that the use of diesel is mainly in the beginning. Please see Some_Data_Analysis Notebook for further details on changes in diesel/gas and oil use over the years!</h3>"
   ]
  },
  {
   "cell_type": "markdown",
   "metadata": {},
   "source": [
    "This data Cleaning was carried out by Sebastian Nichtern (https://www.linkedin.com/in/sebastiannichtern/)"
   ]
  }
 ],
 "metadata": {
  "kernelspec": {
   "display_name": "Python 3",
   "language": "python",
   "name": "python3"
  }
 },
 "nbformat": 4,
 "nbformat_minor": 2
}
