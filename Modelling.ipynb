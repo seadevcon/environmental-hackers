{
 "cells": [
  {
   "cell_type": "code",
   "execution_count": 5,
   "metadata": {},
   "outputs": [],
   "source": [
    "import matplotlib.pyplot as plt\n",
    "import pandas as pd\n",
    "from pandas import DataFrame\n",
    "from pandas import concat\n",
    "import numpy as np\n",
    "from sklearn import preprocessing\n",
    "\n",
    "from sklearn.model_selection import train_test_split\n",
    "from sklearn.tree import DecisionTreeClassifier\n",
    "from sklearn.ensemble import RandomForestClassifier\n",
    "# from sklearn.ensemble import AdaBoostClassifier\n",
    "from sklearn.metrics import roc_curve"
   ]
  },
  {
   "cell_type": "code",
   "execution_count": 6,
   "metadata": {
    "collapsed": true
   },
   "outputs": [],
   "source": [
    "# get the data:\n",
    "ship1_seadevcon = pd.read_pickle(\"ship1_seadevcon\")"
   ]
  },
  {
   "cell_type": "code",
   "execution_count": 8,
   "metadata": {
    "collapsed": true
   },
   "outputs": [],
   "source": [
    "def exchange_cols(df, name_col_1, name_col_2):\n",
    "    col_1 = df[name_col_1]\n",
    "    col_2 = df[name_col_2]\n",
    "\n",
    "    df_copy = df.copy()\n",
    "    df_copy[name_col_1] = col_2\n",
    "    df_copy[name_col_2] = col_1\n",
    "\n",
    "    df_copy = df_copy.rename(columns={name_col_1: name_col_2, name_col_2: name_col_1}) # change titles\n",
    "    return df_copy"
   ]
  },
  {
   "cell_type": "code",
   "execution_count": 9,
   "metadata": {},
   "outputs": [
    {
     "data": {
      "text/html": [
       "<div>\n",
       "<style scoped>\n",
       "    .dataframe tbody tr th:only-of-type {\n",
       "        vertical-align: middle;\n",
       "    }\n",
       "\n",
       "    .dataframe tbody tr th {\n",
       "        vertical-align: top;\n",
       "    }\n",
       "\n",
       "    .dataframe thead th {\n",
       "        text-align: right;\n",
       "    }\n",
       "</style>\n",
       "<table border=\"1\" class=\"dataframe\">\n",
       "  <thead>\n",
       "    <tr style=\"text-align: right;\">\n",
       "      <th></th>\n",
       "      <th>Enclosure underpressure GVU, PDS01</th>\n",
       "      <th>Inlet gas pressure</th>\n",
       "      <th>Gas pressure between shut-off valves</th>\n",
       "      <th>Inert gas pressure</th>\n",
       "      <th>Instrument air pressure GVU, PT006</th>\n",
       "      <th>Inlet gas temperature</th>\n",
       "      <th>Fuel rack control</th>\n",
       "      <th>Exh WG valve control value</th>\n",
       "      <th>By Pass valve control</th>\n",
       "      <th>MFI duration offset, cyl A1</th>\n",
       "      <th>...</th>\n",
       "      <th>CA temp, engine inlet, TE601</th>\n",
       "      <th>Engine exh. gas average temp, TY500</th>\n",
       "      <th>Engine load feedback, torque</th>\n",
       "      <th>Torsional vibration level, mean</th>\n",
       "      <th>Calculated engine load</th>\n",
       "      <th>RunNumber</th>\n",
       "      <th>MinutesSinceStart</th>\n",
       "      <th>CumRunningHours</th>\n",
       "      <th>Load</th>\n",
       "      <th>FuelTypeAnalog</th>\n",
       "    </tr>\n",
       "  </thead>\n",
       "  <tbody>\n",
       "    <tr>\n",
       "      <th>699763</th>\n",
       "      <td>-57.0</td>\n",
       "      <td>3.557778</td>\n",
       "      <td>3.537778</td>\n",
       "      <td>0.576</td>\n",
       "      <td>6.9100</td>\n",
       "      <td>35.5</td>\n",
       "      <td>0.0</td>\n",
       "      <td>8.600000</td>\n",
       "      <td>0.0</td>\n",
       "      <td>98.867222</td>\n",
       "      <td>...</td>\n",
       "      <td>40.900002</td>\n",
       "      <td>493.980005</td>\n",
       "      <td>76.004615</td>\n",
       "      <td>72.625000</td>\n",
       "      <td>3933.000000</td>\n",
       "      <td>1421</td>\n",
       "      <td>318.0</td>\n",
       "      <td>13554.475421</td>\n",
       "      <td>68.444444</td>\n",
       "      <td>2</td>\n",
       "    </tr>\n",
       "    <tr>\n",
       "      <th>699764</th>\n",
       "      <td>-57.0</td>\n",
       "      <td>3.598889</td>\n",
       "      <td>3.578889</td>\n",
       "      <td>0.574</td>\n",
       "      <td>6.9075</td>\n",
       "      <td>35.5</td>\n",
       "      <td>0.0</td>\n",
       "      <td>8.600000</td>\n",
       "      <td>0.0</td>\n",
       "      <td>99.053333</td>\n",
       "      <td>...</td>\n",
       "      <td>40.900002</td>\n",
       "      <td>494.120001</td>\n",
       "      <td>75.309231</td>\n",
       "      <td>75.500000</td>\n",
       "      <td>3876.518182</td>\n",
       "      <td>1421</td>\n",
       "      <td>320.0</td>\n",
       "      <td>13554.508754</td>\n",
       "      <td>68.411538</td>\n",
       "      <td>2</td>\n",
       "    </tr>\n",
       "    <tr>\n",
       "      <th>699765</th>\n",
       "      <td>-57.0</td>\n",
       "      <td>3.640000</td>\n",
       "      <td>3.620000</td>\n",
       "      <td>0.572</td>\n",
       "      <td>6.9220</td>\n",
       "      <td>35.5</td>\n",
       "      <td>0.0</td>\n",
       "      <td>8.616667</td>\n",
       "      <td>0.0</td>\n",
       "      <td>98.660000</td>\n",
       "      <td>...</td>\n",
       "      <td>40.900002</td>\n",
       "      <td>494.259998</td>\n",
       "      <td>73.978333</td>\n",
       "      <td>89.923077</td>\n",
       "      <td>3851.300000</td>\n",
       "      <td>1421</td>\n",
       "      <td>322.0</td>\n",
       "      <td>13554.542087</td>\n",
       "      <td>67.177778</td>\n",
       "      <td>2</td>\n",
       "    </tr>\n",
       "    <tr>\n",
       "      <th>699766</th>\n",
       "      <td>-57.0</td>\n",
       "      <td>3.670000</td>\n",
       "      <td>3.640000</td>\n",
       "      <td>0.570</td>\n",
       "      <td>6.9850</td>\n",
       "      <td>35.5</td>\n",
       "      <td>0.0</td>\n",
       "      <td>8.633333</td>\n",
       "      <td>0.0</td>\n",
       "      <td>98.470000</td>\n",
       "      <td>...</td>\n",
       "      <td>40.900002</td>\n",
       "      <td>494.399994</td>\n",
       "      <td>76.477143</td>\n",
       "      <td>72.782609</td>\n",
       "      <td>3964.920000</td>\n",
       "      <td>1421</td>\n",
       "      <td>324.0</td>\n",
       "      <td>13554.575421</td>\n",
       "      <td>69.069697</td>\n",
       "      <td>2</td>\n",
       "    </tr>\n",
       "    <tr>\n",
       "      <th>699767</th>\n",
       "      <td>-57.0</td>\n",
       "      <td>3.670000</td>\n",
       "      <td>3.640000</td>\n",
       "      <td>0.570</td>\n",
       "      <td>6.9850</td>\n",
       "      <td>35.5</td>\n",
       "      <td>0.0</td>\n",
       "      <td>7.100000</td>\n",
       "      <td>0.0</td>\n",
       "      <td>98.910000</td>\n",
       "      <td>...</td>\n",
       "      <td>40.900002</td>\n",
       "      <td>494.399994</td>\n",
       "      <td>75.437288</td>\n",
       "      <td>73.590909</td>\n",
       "      <td>3890.820000</td>\n",
       "      <td>1421</td>\n",
       "      <td>324.0</td>\n",
       "      <td>13554.575421</td>\n",
       "      <td>68.230435</td>\n",
       "      <td>2</td>\n",
       "    </tr>\n",
       "  </tbody>\n",
       "</table>\n",
       "<p>5 rows × 83 columns</p>\n",
       "</div>"
      ],
      "text/plain": [
       "        Enclosure underpressure GVU, PDS01  Inlet gas pressure  \\\n",
       "699763                               -57.0            3.557778   \n",
       "699764                               -57.0            3.598889   \n",
       "699765                               -57.0            3.640000   \n",
       "699766                               -57.0            3.670000   \n",
       "699767                               -57.0            3.670000   \n",
       "\n",
       "        Gas pressure between shut-off valves  Inert gas pressure  \\\n",
       "699763                              3.537778               0.576   \n",
       "699764                              3.578889               0.574   \n",
       "699765                              3.620000               0.572   \n",
       "699766                              3.640000               0.570   \n",
       "699767                              3.640000               0.570   \n",
       "\n",
       "        Instrument air pressure GVU, PT006  Inlet gas temperature  \\\n",
       "699763                              6.9100                   35.5   \n",
       "699764                              6.9075                   35.5   \n",
       "699765                              6.9220                   35.5   \n",
       "699766                              6.9850                   35.5   \n",
       "699767                              6.9850                   35.5   \n",
       "\n",
       "        Fuel rack control  Exh WG valve control value  By Pass valve control  \\\n",
       "699763                0.0                    8.600000                    0.0   \n",
       "699764                0.0                    8.600000                    0.0   \n",
       "699765                0.0                    8.616667                    0.0   \n",
       "699766                0.0                    8.633333                    0.0   \n",
       "699767                0.0                    7.100000                    0.0   \n",
       "\n",
       "        MFI duration offset, cyl A1       ...        \\\n",
       "699763                    98.867222       ...         \n",
       "699764                    99.053333       ...         \n",
       "699765                    98.660000       ...         \n",
       "699766                    98.470000       ...         \n",
       "699767                    98.910000       ...         \n",
       "\n",
       "        CA temp, engine inlet, TE601  Engine exh. gas average temp, TY500  \\\n",
       "699763                     40.900002                           493.980005   \n",
       "699764                     40.900002                           494.120001   \n",
       "699765                     40.900002                           494.259998   \n",
       "699766                     40.900002                           494.399994   \n",
       "699767                     40.900002                           494.399994   \n",
       "\n",
       "        Engine load feedback, torque  Torsional vibration level, mean  \\\n",
       "699763                     76.004615                        72.625000   \n",
       "699764                     75.309231                        75.500000   \n",
       "699765                     73.978333                        89.923077   \n",
       "699766                     76.477143                        72.782609   \n",
       "699767                     75.437288                        73.590909   \n",
       "\n",
       "        Calculated engine load  RunNumber  MinutesSinceStart  CumRunningHours  \\\n",
       "699763             3933.000000       1421              318.0     13554.475421   \n",
       "699764             3876.518182       1421              320.0     13554.508754   \n",
       "699765             3851.300000       1421              322.0     13554.542087   \n",
       "699766             3964.920000       1421              324.0     13554.575421   \n",
       "699767             3890.820000       1421              324.0     13554.575421   \n",
       "\n",
       "             Load  FuelTypeAnalog  \n",
       "699763  68.444444               2  \n",
       "699764  68.411538               2  \n",
       "699765  67.177778               2  \n",
       "699766  69.069697               2  \n",
       "699767  68.230435               2  \n",
       "\n",
       "[5 rows x 83 columns]"
      ]
     },
     "execution_count": 9,
     "metadata": {},
     "output_type": "execute_result"
    }
   ],
   "source": [
    "# Switch last two features of Seadevcon (so the Objectiv is in the last col):\n",
    "ship1_seadevcon = exchange_cols(ship1_seadevcon, \"Load\", \"FuelTypeAnalog\")\n",
    "ship1_seadevcon.tail()"
   ]
  },
  {
   "cell_type": "code",
   "execution_count": 4,
   "metadata": {},
   "outputs": [
    {
     "name": "stdout",
     "output_type": "stream",
     "text": [
      "taining shape: (325372, 83) test shape: (81343, 83)\n",
      "<class 'pandas.core.frame.DataFrame'>\n"
     ]
    }
   ],
   "source": [
    "''' Split data into training and test set '''\n",
    "\n",
    "training_data, test_data = train_test_split(ship1_seadevcon, test_size=0.2, shuffle=True)\n",
    "print(\"taining shape:\",training_data.shape,\"test shape:\",test_data.shape)\n",
    "print(type(training_data))"
   ]
  },
  {
   "cell_type": "code",
   "execution_count": 6,
   "metadata": {},
   "outputs": [
    {
     "data": {
      "text/plain": [
       "RandomForestClassifier(bootstrap=True, class_weight=None, criterion='gini',\n",
       "            max_depth=7, max_features=15, max_leaf_nodes=None,\n",
       "            min_impurity_decrease=0.0, min_impurity_split=None,\n",
       "            min_samples_leaf=1, min_samples_split=2,\n",
       "            min_weight_fraction_leaf=0.0, n_estimators=130, n_jobs=3,\n",
       "            oob_score=False, random_state=0, verbose=0, warm_start=False)"
      ]
     },
     "execution_count": 6,
     "metadata": {},
     "output_type": "execute_result"
    }
   ],
   "source": [
    "# Random Forrest\n",
    "clf = RandomForestClassifier(n_estimators=130, max_features=15, max_depth=7, n_jobs=3, random_state=0)\n",
    "\n",
    "# get all features but the last one, which is the one we want to predict\n",
    "features = training_data.columns[:training_data.shape[1]-1]\n",
    "\n",
    "# Train the Classifier to take the training features and learn how they relate to the training y (the species)\n",
    "clf.fit(training_data[features], training_data['FuelTypeAnalog'])"
   ]
  },
  {
   "cell_type": "code",
   "execution_count": 7,
   "metadata": {
    "collapsed": true
   },
   "outputs": [],
   "source": [
    "# predict grades for training and test dataset\n",
    "pred_results_test  = clf.predict(test_data[features])\n",
    "pred_results_train = clf.predict(training_data[features])"
   ]
  },
  {
   "cell_type": "code",
   "execution_count": 8,
   "metadata": {},
   "outputs": [
    {
     "name": "stdout",
     "output_type": "stream",
     "text": [
      "Accuracy test:      0.9989673358494278\n",
      "Accuracy training:  0.9990994922734593\n",
      "\n",
      "L1 Loss test:       88\n",
      "L2 Loss test:       96\n"
     ]
    }
   ],
   "source": [
    "\n",
    "correct_percent_test = 1 - (np.count_nonzero(pred_results_test - test_data['FuelTypeAnalog'])/pred_results_test.shape[0])\n",
    "correct_percent_train = 1 - np.count_nonzero(pred_results_train - training_data['FuelTypeAnalog'])/training_data['FuelTypeAnalog'].shape[0]\n",
    "l1_loss = np.sum(np.abs(pred_results_test - test_data['FuelTypeAnalog'].values)) # L1 Loss\n",
    "l2_loss = np.sum(np.square(pred_results_test - test_data['FuelTypeAnalog'].values)) # L2 Loss\n",
    "\n",
    "print(\"Accuracy test:     \", correct_percent_test)\n",
    "print(\"Accuracy training: \", correct_percent_train)\n",
    "\n",
    "print(\"\\nL1 Loss test:      \", l1_loss)\n",
    "print(\"L2 Loss test:      \",   l2_loss)"
   ]
  },
  {
   "cell_type": "code",
   "execution_count": 9,
   "metadata": {},
   "outputs": [
    {
     "data": {
      "image/png": "[encoded data removed]",
      "text/plain": [
       "<matplotlib.figure.Figure at 0x1101ab4e0>"
      ]
     },
     "metadata": {},
     "output_type": "display_data"
    }
   ],
   "source": [
    "importance = clf.feature_importances_\n",
    "plt.bar(ship1_seadevcon.columns[:training_data.shape[1]-1].values, importance)\n",
    "plt.show()"
   ]
  },
  {
   "cell_type": "code",
   "execution_count": 10,
   "metadata": {},
   "outputs": [
    {
     "data": {
      "text/html": [
       "<div>\n",
       "<style scoped>\n",
       "    .dataframe tbody tr th:only-of-type {\n",
       "        vertical-align: middle;\n",
       "    }\n",
       "\n",
       "    .dataframe tbody tr th {\n",
       "        vertical-align: top;\n",
       "    }\n",
       "\n",
       "    .dataframe thead th {\n",
       "        text-align: right;\n",
       "    }\n",
       "</style>\n",
       "<table border=\"1\" class=\"dataframe\">\n",
       "  <thead>\n",
       "    <tr style=\"text-align: right;\">\n",
       "      <th></th>\n",
       "      <th>0</th>\n",
       "    </tr>\n",
       "  </thead>\n",
       "  <tbody>\n",
       "    <tr>\n",
       "      <th>Enclosure underpressure GVU, PDS01</th>\n",
       "      <td>0.000048</td>\n",
       "    </tr>\n",
       "    <tr>\n",
       "      <th>Inlet gas pressure</th>\n",
       "      <td>0.000389</td>\n",
       "    </tr>\n",
       "    <tr>\n",
       "      <th>Gas pressure between shut-off valves</th>\n",
       "      <td>0.057393</td>\n",
       "    </tr>\n",
       "    <tr>\n",
       "      <th>Inert gas pressure</th>\n",
       "      <td>0.000311</td>\n",
       "    </tr>\n",
       "    <tr>\n",
       "      <th>Instrument air pressure GVU, PT006</th>\n",
       "      <td>0.000204</td>\n",
       "    </tr>\n",
       "  </tbody>\n",
       "</table>\n",
       "</div>"
      ],
      "text/plain": [
       "                                             0\n",
       "Enclosure underpressure GVU, PDS01    0.000048\n",
       "Inlet gas pressure                    0.000389\n",
       "Gas pressure between shut-off valves  0.057393\n",
       "Inert gas pressure                    0.000311\n",
       "Instrument air pressure GVU, PT006    0.000204"
      ]
     },
     "execution_count": 10,
     "metadata": {},
     "output_type": "execute_result"
    }
   ],
   "source": [
    "sorted_importance = pd.DataFrame([importance], None, ship1_seadevcon.columns[:training_data.shape[1]-1].values).T\n",
    "sorted_importance.head()"
   ]
  },
  {
   "cell_type": "code",
   "execution_count": 11,
   "metadata": {},
   "outputs": [
    {
     "data": {
      "image/png": "[encoded data removed]",
      "text/plain": [
       "<matplotlib.figure.Figure at 0x1176ed5f8>"
      ]
     },
     "metadata": {},
     "output_type": "display_data"
    }
   ],
   "source": [
    "sorted_importance = sorted_importance.sort_values(0, ascending=False)\n",
    "sorted_importance.plot(kind='bar')\n",
    "plt.title(\"Feature Importance\")\n",
    "plt.xlabel(\"Feature\")\n",
    "plt.ylabel(\"Correlation\")\n",
    "plt.show()"
   ]
  },
  {
   "cell_type": "code",
   "execution_count": 12,
   "metadata": {},
   "outputs": [
    {
     "data": {
      "image/png": "[encoded data removed]",
      "text/plain": [
       "<matplotlib.figure.Figure at 0x1253293c8>"
      ]
     },
     "metadata": {},
     "output_type": "display_data"
    }
   ],
   "source": [
    "sorted_importance[:10].plot(kind='bar')\n",
    "plt.show()"
   ]
  },
  {
   "cell_type": "markdown",
   "metadata": {},
   "source": [
    "Discussion: Sure, 99,88 % makes sense, the fuel used can be predicted easily if all machine data is given. \n",
    "The real challange is to find reasons for the fuel change. The data is staying the same as a time series. But the Model must be changed.\n",
    "\n",
    "In Other Words, we don't need a classification, we need a regression that's mapping the current state to a probability of fuel changes in the future.\n",
    "\n",
    "Models possible: \n",
    "Recurrent neuronal Network\n",
    "Anything that can handle time series (See also stock marked predictions).\n",
    "Maybe one decision tree for every time step (2,5,10,15,30,45,60 min into the future). <- would need some data magic (delay the objecive) but looks like it could be a cool idea.\n",
    "-> Should give a probability of the fuel choice all timesteps in the future. \n"
   ]
  },
  {
   "cell_type": "markdown",
   "metadata": {},
   "source": [
    "<h1>Random Forrest Forecasting</h1>"
   ]
  },
  {
   "cell_type": "code",
   "execution_count": 14,
   "metadata": {
    "collapsed": true
   },
   "outputs": [],
   "source": [
    "def series_to_supervised(df, n_in=1, n_out=1, stepsize=5, dropnan=True):\n",
    "    n_vars = df.shape[1]\n",
    "    cols, names = list(), list()\n",
    "    # input sequence (t-n, ... t-1)\n",
    "    for i in range(n_in*stepsize, -stepsize, -stepsize):\n",
    "        cols.append(df.shift(i))\n",
    "        names += [('%s(t-%d)' % (name, i)) for name in df]\n",
    "            \n",
    "    # forecast sequence (t+1, ... t+n)\n",
    "    for i in range(stepsize, n_out*stepsize, stepsize): # t0 ist schon abgedeckt hier drüber. Also start bei t+stepsize\n",
    "        cols.append(df.iloc[:,-1].shift(-i))\n",
    "        names += [\"Fuel(t+\"+str(i)+\")\"]\n",
    "        \n",
    "    # put it all together\n",
    "    agg = concat(cols, axis=1)\n",
    "    agg.columns = names\n",
    "    # drop rows with NaN values\n",
    "    if dropnan:\n",
    "        agg.dropna(inplace=True)\n",
    "    return agg"
   ]
  },
  {
   "cell_type": "code",
   "execution_count": 15,
   "metadata": {
    "collapsed": true
   },
   "outputs": [],
   "source": [
    "STEPS_INTO_PAST_AND_FUTURE = 6"
   ]
  },
  {
   "cell_type": "code",
   "execution_count": 16,
   "metadata": {},
   "outputs": [
    {
     "data": {
      "text/html": [
       "<div>\n",
       "<style scoped>\n",
       "    .dataframe tbody tr th:only-of-type {\n",
       "        vertical-align: middle;\n",
       "    }\n",
       "\n",
       "    .dataframe tbody tr th {\n",
       "        vertical-align: top;\n",
       "    }\n",
       "\n",
       "    .dataframe thead th {\n",
       "        text-align: right;\n",
       "    }\n",
       "</style>\n",
       "<table border=\"1\" class=\"dataframe\">\n",
       "  <thead>\n",
       "    <tr style=\"text-align: right;\">\n",
       "      <th></th>\n",
       "      <th>Enclosure underpressure GVU, PDS01(t-60)</th>\n",
       "      <th>Inlet gas pressure(t-60)</th>\n",
       "      <th>Gas pressure between shut-off valves(t-60)</th>\n",
       "      <th>Inert gas pressure(t-60)</th>\n",
       "      <th>Instrument air pressure GVU, PT006(t-60)</th>\n",
       "      <th>Inlet gas temperature(t-60)</th>\n",
       "      <th>Fuel rack control(t-60)</th>\n",
       "      <th>Exh WG valve control value(t-60)</th>\n",
       "      <th>By Pass valve control(t-60)</th>\n",
       "      <th>MFI duration offset, cyl A1(t-60)</th>\n",
       "      <th>...</th>\n",
       "      <th>RunNumber(t-0)</th>\n",
       "      <th>MinutesSinceStart(t-0)</th>\n",
       "      <th>CumRunningHours(t-0)</th>\n",
       "      <th>Load(t-0)</th>\n",
       "      <th>FuelTypeAnalog(t-0)</th>\n",
       "      <th>Fuel(t+10)</th>\n",
       "      <th>Fuel(t+20)</th>\n",
       "      <th>Fuel(t+30)</th>\n",
       "      <th>Fuel(t+40)</th>\n",
       "      <th>Fuel(t+50)</th>\n",
       "    </tr>\n",
       "  </thead>\n",
       "  <tbody>\n",
       "    <tr>\n",
       "      <th>1892</th>\n",
       "      <td>-57.500000</td>\n",
       "      <td>5.8</td>\n",
       "      <td>5.86</td>\n",
       "      <td>8.53</td>\n",
       "      <td>6.320</td>\n",
       "      <td>38.700001</td>\n",
       "      <td>0.0</td>\n",
       "      <td>18.236111</td>\n",
       "      <td>0.0</td>\n",
       "      <td>97.683335</td>\n",
       "      <td>...</td>\n",
       "      <td>46</td>\n",
       "      <td>33.0</td>\n",
       "      <td>26.967148</td>\n",
       "      <td>13.227619</td>\n",
       "      <td>0</td>\n",
       "      <td>0.0</td>\n",
       "      <td>0.0</td>\n",
       "      <td>0.0</td>\n",
       "      <td>0.0</td>\n",
       "      <td>0.0</td>\n",
       "    </tr>\n",
       "    <tr>\n",
       "      <th>1893</th>\n",
       "      <td>-57.500000</td>\n",
       "      <td>5.8</td>\n",
       "      <td>5.86</td>\n",
       "      <td>8.53</td>\n",
       "      <td>6.320</td>\n",
       "      <td>38.700001</td>\n",
       "      <td>0.0</td>\n",
       "      <td>18.229268</td>\n",
       "      <td>0.0</td>\n",
       "      <td>97.741669</td>\n",
       "      <td>...</td>\n",
       "      <td>46</td>\n",
       "      <td>35.0</td>\n",
       "      <td>27.000482</td>\n",
       "      <td>17.350000</td>\n",
       "      <td>0</td>\n",
       "      <td>0.0</td>\n",
       "      <td>0.0</td>\n",
       "      <td>0.0</td>\n",
       "      <td>0.0</td>\n",
       "      <td>0.0</td>\n",
       "    </tr>\n",
       "    <tr>\n",
       "      <th>1894</th>\n",
       "      <td>-57.500000</td>\n",
       "      <td>5.8</td>\n",
       "      <td>5.86</td>\n",
       "      <td>8.53</td>\n",
       "      <td>6.320</td>\n",
       "      <td>38.700001</td>\n",
       "      <td>0.0</td>\n",
       "      <td>18.285106</td>\n",
       "      <td>0.0</td>\n",
       "      <td>97.800003</td>\n",
       "      <td>...</td>\n",
       "      <td>46</td>\n",
       "      <td>37.0</td>\n",
       "      <td>27.033815</td>\n",
       "      <td>46.611818</td>\n",
       "      <td>0</td>\n",
       "      <td>0.0</td>\n",
       "      <td>0.0</td>\n",
       "      <td>0.0</td>\n",
       "      <td>0.0</td>\n",
       "      <td>0.0</td>\n",
       "    </tr>\n",
       "    <tr>\n",
       "      <th>1895</th>\n",
       "      <td>-57.620690</td>\n",
       "      <td>5.8</td>\n",
       "      <td>5.86</td>\n",
       "      <td>8.53</td>\n",
       "      <td>6.320</td>\n",
       "      <td>38.700001</td>\n",
       "      <td>0.0</td>\n",
       "      <td>17.945238</td>\n",
       "      <td>0.0</td>\n",
       "      <td>97.800003</td>\n",
       "      <td>...</td>\n",
       "      <td>46</td>\n",
       "      <td>39.0</td>\n",
       "      <td>27.067148</td>\n",
       "      <td>79.561403</td>\n",
       "      <td>0</td>\n",
       "      <td>0.0</td>\n",
       "      <td>0.0</td>\n",
       "      <td>0.0</td>\n",
       "      <td>0.0</td>\n",
       "      <td>0.0</td>\n",
       "    </tr>\n",
       "    <tr>\n",
       "      <th>1896</th>\n",
       "      <td>-57.463415</td>\n",
       "      <td>5.8</td>\n",
       "      <td>5.86</td>\n",
       "      <td>8.53</td>\n",
       "      <td>6.315</td>\n",
       "      <td>38.700001</td>\n",
       "      <td>0.0</td>\n",
       "      <td>18.168182</td>\n",
       "      <td>0.0</td>\n",
       "      <td>97.400002</td>\n",
       "      <td>...</td>\n",
       "      <td>46</td>\n",
       "      <td>41.0</td>\n",
       "      <td>27.100482</td>\n",
       "      <td>87.687736</td>\n",
       "      <td>0</td>\n",
       "      <td>0.0</td>\n",
       "      <td>0.0</td>\n",
       "      <td>0.0</td>\n",
       "      <td>0.0</td>\n",
       "      <td>0.0</td>\n",
       "    </tr>\n",
       "  </tbody>\n",
       "</table>\n",
       "<p>5 rows × 586 columns</p>\n",
       "</div>"
      ],
      "text/plain": [
       "      Enclosure underpressure GVU, PDS01(t-60)  Inlet gas pressure(t-60)  \\\n",
       "1892                                -57.500000                       5.8   \n",
       "1893                                -57.500000                       5.8   \n",
       "1894                                -57.500000                       5.8   \n",
       "1895                                -57.620690                       5.8   \n",
       "1896                                -57.463415                       5.8   \n",
       "\n",
       "      Gas pressure between shut-off valves(t-60)  Inert gas pressure(t-60)  \\\n",
       "1892                                        5.86                      8.53   \n",
       "1893                                        5.86                      8.53   \n",
       "1894                                        5.86                      8.53   \n",
       "1895                                        5.86                      8.53   \n",
       "1896                                        5.86                      8.53   \n",
       "\n",
       "      Instrument air pressure GVU, PT006(t-60)  Inlet gas temperature(t-60)  \\\n",
       "1892                                     6.320                    38.700001   \n",
       "1893                                     6.320                    38.700001   \n",
       "1894                                     6.320                    38.700001   \n",
       "1895                                     6.320                    38.700001   \n",
       "1896                                     6.315                    38.700001   \n",
       "\n",
       "      Fuel rack control(t-60)  Exh WG valve control value(t-60)  \\\n",
       "1892                      0.0                         18.236111   \n",
       "1893                      0.0                         18.229268   \n",
       "1894                      0.0                         18.285106   \n",
       "1895                      0.0                         17.945238   \n",
       "1896                      0.0                         18.168182   \n",
       "\n",
       "      By Pass valve control(t-60)  MFI duration offset, cyl A1(t-60)  \\\n",
       "1892                          0.0                          97.683335   \n",
       "1893                          0.0                          97.741669   \n",
       "1894                          0.0                          97.800003   \n",
       "1895                          0.0                          97.800003   \n",
       "1896                          0.0                          97.400002   \n",
       "\n",
       "         ...      RunNumber(t-0)  MinutesSinceStart(t-0)  \\\n",
       "1892     ...                  46                    33.0   \n",
       "1893     ...                  46                    35.0   \n",
       "1894     ...                  46                    37.0   \n",
       "1895     ...                  46                    39.0   \n",
       "1896     ...                  46                    41.0   \n",
       "\n",
       "      CumRunningHours(t-0)  Load(t-0)  FuelTypeAnalog(t-0)  Fuel(t+10)  \\\n",
       "1892             26.967148  13.227619                    0         0.0   \n",
       "1893             27.000482  17.350000                    0         0.0   \n",
       "1894             27.033815  46.611818                    0         0.0   \n",
       "1895             27.067148  79.561403                    0         0.0   \n",
       "1896             27.100482  87.687736                    0         0.0   \n",
       "\n",
       "      Fuel(t+20)  Fuel(t+30)  Fuel(t+40)  Fuel(t+50)  \n",
       "1892         0.0         0.0         0.0         0.0  \n",
       "1893         0.0         0.0         0.0         0.0  \n",
       "1894         0.0         0.0         0.0         0.0  \n",
       "1895         0.0         0.0         0.0         0.0  \n",
       "1896         0.0         0.0         0.0         0.0  \n",
       "\n",
       "[5 rows x 586 columns]"
      ]
     },
     "execution_count": 16,
     "metadata": {},
     "output_type": "execute_result"
    }
   ],
   "source": [
    "training_data_timedependent = series_to_supervised(ship1_seadevcon, n_in=STEPS_INTO_PAST_AND_FUTURE, n_out=STEPS_INTO_PAST_AND_FUTURE, stepsize=10)\n",
    "training_data_timedependent.head()"
   ]
  },
  {
   "cell_type": "code",
   "execution_count": 17,
   "metadata": {},
   "outputs": [
    {
     "name": "stdout",
     "output_type": "stream",
     "text": [
      "taining shape: (325284, 586) test shape: (81321, 586)\n",
      "<class 'pandas.core.frame.DataFrame'>\n"
     ]
    }
   ],
   "source": [
    "''' Split data into training and test set '''\n",
    "\n",
    "training_data, test_data = train_test_split(training_data_timedependent, test_size=0.2, shuffle=False)\n",
    "print(\"taining shape:\",training_data.shape,\"test shape:\",test_data.shape)\n",
    "print(type(training_data))"
   ]
  },
  {
   "cell_type": "code",
   "execution_count": 18,
   "metadata": {},
   "outputs": [
    {
     "data": {
      "text/plain": [
       "RandomForestClassifier(bootstrap=True, class_weight=None, criterion='gini',\n",
       "            max_depth=7, max_features=15, max_leaf_nodes=None,\n",
       "            min_impurity_decrease=0.0, min_impurity_split=None,\n",
       "            min_samples_leaf=1, min_samples_split=2,\n",
       "            min_weight_fraction_leaf=0.0, n_estimators=130, n_jobs=3,\n",
       "            oob_score=False, random_state=0, verbose=0, warm_start=False)"
      ]
     },
     "execution_count": 18,
     "metadata": {},
     "output_type": "execute_result"
    }
   ],
   "source": [
    "# Random Forrest\n",
    "clf10 = RandomForestClassifier(n_estimators=130, max_features=15, max_depth=7, n_jobs=3, random_state=0)\n",
    "clf20 = RandomForestClassifier(n_estimators=130, max_features=15, max_depth=7, n_jobs=3, random_state=0)\n",
    "clf30 = RandomForestClassifier(n_estimators=130, max_features=15, max_depth=7, n_jobs=3, random_state=0)\n",
    "clf40 = RandomForestClassifier(n_estimators=130, max_features=15, max_depth=7, n_jobs=3, random_state=0)\n",
    "clf50 = RandomForestClassifier(n_estimators=130, max_features=15, max_depth=7, n_jobs=3, random_state=0)\n",
    "\n",
    "\n",
    "# get all features but the last one, which is the one we want to predict\n",
    "features = training_data.columns[:training_data.shape[1]-STEPS_INTO_PAST_AND_FUTURE]\n",
    "\n",
    "# Train the Classifier to take the training features and learn how they relate to the training y (the species)\n",
    "# trein STEPS_INTO_PAST_AND_FUTURE Classifiers, one for each step in the future.\n",
    "clf10.fit(training_data[features], training_data['Fuel(t+10)'])\n",
    "clf20.fit(training_data[features], training_data['Fuel(t+20)'])\n",
    "clf30.fit(training_data[features], training_data['Fuel(t+30)'])\n",
    "clf40.fit(training_data[features], training_data['Fuel(t+40)'])\n",
    "clf50.fit(training_data[features], training_data['Fuel(t+50)'])"
   ]
  },
  {
   "cell_type": "code",
   "execution_count": 19,
   "metadata": {
    "collapsed": true
   },
   "outputs": [],
   "source": [
    "pred_results_test_10  = clf10.predict(test_data[features])\n",
    "pred_results_train_10 = clf10.predict(training_data[features])\n",
    "\n",
    "pred_results_test_20  = clf20.predict(test_data[features])\n",
    "pred_results_train_20 = clf20.predict(training_data[features])\n",
    "\n",
    "pred_results_test_30  = clf30.predict(test_data[features])\n",
    "pred_results_train_30 = clf30.predict(training_data[features])\n",
    "\n",
    "pred_results_test_40  = clf40.predict(test_data[features])\n",
    "pred_results_train_40 = clf40.predict(training_data[features])\n",
    "\n",
    "pred_results_test_50  = clf50.predict(test_data[features])\n",
    "pred_results_train_50 = clf50.predict(training_data[features])\n",
    "\n",
    "pred_res = [[pred_results_test_10, pred_results_train_10], [pred_results_test_20, pred_results_train_20], [pred_results_test_30, pred_results_train_30], [pred_results_test_40, pred_results_train_40], [pred_results_test_50, pred_results_train_50]]"
   ]
  },
  {
   "cell_type": "code",
   "execution_count": 20,
   "metadata": {},
   "outputs": [
    {
     "name": "stdout",
     "output_type": "stream",
     "text": [
      "Accuracy test:     for  Fuel(t+10)  =  0.9592233248484401\n",
      "Accuracy training: for  Fuel(t+10)  =  0.9645017892057403\n",
      "Accuracy test:     for  Fuel(t+20)  =  0.9451925087000898\n",
      "Accuracy training: for  Fuel(t+20)  =  0.9614951857453794\n",
      "Accuracy test:     for  Fuel(t+30)  =  0.9375192139791689\n",
      "Accuracy training: for  Fuel(t+30)  =  0.9606958842119502\n",
      "Accuracy test:     for  Fuel(t+40)  =  0.9279521894713543\n",
      "Accuracy training: for  Fuel(t+40)  =  0.9600533687485397\n",
      "Accuracy test:     for  Fuel(t+50)  =  0.9164791382299775\n",
      "Accuracy training: for  Fuel(t+50)  =  0.9595368969884778\n"
     ]
    }
   ],
   "source": [
    "Acc_test = []\n",
    "Acc_train = []\n",
    "for time, res in enumerate(pred_res):\n",
    "    # predict grades for training and test dataset\n",
    "    Fuel_time = 'Fuel(t+'+str(time*10+10)+')'\n",
    "    correct_percent_test = 1 - (np.count_nonzero(res[0] - test_data[Fuel_time])/res[0].shape[0])\n",
    "    Acc_test.append(correct_percent_test)\n",
    "    correct_percent_train = 1 - np.count_nonzero(res[1] - training_data[Fuel_time])/training_data[Fuel_time].shape[0]\n",
    "    Acc_train.append(correct_percent_train)\n",
    "    # l1_loss = np.sum(np.abs(pred_results_test - test_data[Fuel_time].values)) # L1 Loss\n",
    "    # l2_loss = np.sum(np.square(pred_results_test - test_data[Fuel_time].values)) # L2 Loss\n",
    "\n",
    "    print(\"Accuracy test:     for \",Fuel_time, \" = \", correct_percent_test)\n",
    "    print(\"Accuracy training: for \",Fuel_time, \" = \", correct_percent_train)\n",
    "\n",
    "    #print(\"\\nL1 Loss test:      \", l1_loss)\n",
    "    #print(\"L2 Loss test:      \",   l2_loss)"
   ]
  },
  {
   "cell_type": "code",
   "execution_count": 21,
   "metadata": {},
   "outputs": [
    {
     "data": {
      "image/png": "[encoded data removed]",
      "text/plain": [
       "<matplotlib.figure.Figure at 0x1151d0588>"
      ]
     },
     "metadata": {},
     "output_type": "display_data"
    }
   ],
   "source": [
    "plt.plot([10,20,30,40,50],Acc_test)\n",
    "plt.title(\"Test Accuracy of predicting future Fuel choice\")\n",
    "plt.xlabel(\"Time in the Future\")\n",
    "plt.ylabel(\"Accuracy\")\n",
    "plt.show()"
   ]
  },
  {
   "cell_type": "code",
   "execution_count": 22,
   "metadata": {},
   "outputs": [
    {
     "data": {
      "image/png": "[encoded data removed]",
      "text/plain": [
       "<matplotlib.figure.Figure at 0x1046ac128>"
      ]
     },
     "metadata": {},
     "output_type": "display_data"
    }
   ],
   "source": [
    "importance = clf50.feature_importances_\n",
    "sorted_importance = pd.DataFrame([importance], None, training_data.columns[:training_data.shape[1]-STEPS_INTO_PAST_AND_FUTURE].values).T\n",
    "sorted_importance = sorted_importance.sort_values(0, ascending=False)\n",
    "sorted_importance[:10].plot(kind='bar')\n",
    "plt.show()"
   ]
  },
  {
   "cell_type": "markdown",
   "metadata": {
    "collapsed": true
   },
   "source": [
    "To get a more usefull Model, input values like CumRunningHours or RunNumber should be removed! They just overfit to this specific training data and are not transferable to other ships or engins (or even future runs of this ship)! If I had more time and access to the data, I could clean the training data again from any time related information (like CumRunningHours) and get a valid predictive Model that can be used for future shipping on Ship W50DF_00092 (or another ship if this is wanted).\n",
    "\n",
    "This Analysis and Modell was created by Sebastian Nichtern (https://www.linkedin.com/in/sebastiannichtern/)"
   ]
  }
 ],
 "metadata": {
  "kernelspec": {
   "display_name": "Python 3",
   "language": "python",
   "name": "python3"
  }
 },
 "nbformat": 4,
 "nbformat_minor": 2
}
